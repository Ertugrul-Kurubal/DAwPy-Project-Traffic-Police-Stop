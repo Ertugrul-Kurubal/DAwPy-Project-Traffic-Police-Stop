{
 "cells": [
  {
   "cell_type": "markdown",
   "metadata": {},
   "source": [
    "___\n",
    "\n",
    "<p style=\"text-align: center;\"><img src=\"https://docs.google.com/uc?id=1lY0Uj5R04yMY3-ZppPWxqCr5pvBLYPnV\" class=\"img-fluid\" alt=\"CLRSWY\"></p>\n",
    "\n",
    "___"
   ]
  },
  {
   "cell_type": "markdown",
   "metadata": {},
   "source": [
    "<h1><p style=\"text-align: center;\">Data Analysis with Python <br>Project - 1</p><h1> - Traffic Police Stops <img src=\"https://docs.google.com/uc?id=17CPCwi3_VvzcS87TOsh4_U8eExOhL6Ki\" class=\"img-fluid\" alt=\"CLRSWY\" width=\"200\" height=\"100\"> "
   ]
  },
  {
   "cell_type": "markdown",
   "metadata": {},
   "source": [
    "Does the ``gender`` of a driver have an impact on police behavior during a traffic stop? **In this chapter**, you will explore that question while practicing filtering, grouping, method chaining, Boolean math, string methods, and more!"
   ]
  },
  {
   "cell_type": "markdown",
   "metadata": {},
   "source": [
    "***"
   ]
  },
  {
   "cell_type": "markdown",
   "metadata": {},
   "source": [
    "## Examining traffic violations"
   ]
  },
  {
   "cell_type": "markdown",
   "metadata": {},
   "source": [
    "Before comparing the violations being committed by each gender, you should examine the ``violations`` committed by all drivers to get a baseline understanding of the data.\n",
    "\n",
    "In this exercise, you'll count the unique values in the ``violation`` column, and then separately express those counts as proportions."
   ]
  },
  {
   "cell_type": "markdown",
   "metadata": {},
   "source": [
    "> Before starting your work in this section **repeat the steps which you did in the previos chapter for preparing the data.** Continue to this chapter based on where you were in the end of the previous chapter."
   ]
  },
  {
   "cell_type": "code",
   "execution_count": 1,
   "metadata": {},
   "outputs": [],
   "source": [
    "import numpy as np \n",
    "import pandas as pd"
   ]
  },
  {
   "cell_type": "code",
   "execution_count": 2,
   "metadata": {},
   "outputs": [
    {
     "output_type": "stream",
     "name": "stderr",
     "text": [
      "C:\\Users\\Ertuğrul\\AppData\\Local\\Programs\\Python\\Python39\\lib\\site-packages\\IPython\\core\\interactiveshell.py:3146: DtypeWarning: Columns (8,16) have mixed types.Specify dtype option on import or set low_memory=False.\n  has_raised = await self.run_ast_nodes(code_ast.body, cell_name,\n"
     ]
    }
   ],
   "source": [
    "df = pd.read_csv(\"police.csv\")"
   ]
  },
  {
   "cell_type": "code",
   "execution_count": 3,
   "metadata": {},
   "outputs": [],
   "source": [
    "df.drop(['county_name','state'], axis=1, inplace=True)"
   ]
  },
  {
   "cell_type": "code",
   "execution_count": 4,
   "metadata": {},
   "outputs": [],
   "source": [
    "df = df.dropna(subset=['driver_gender'])"
   ]
  },
  {
   "cell_type": "code",
   "execution_count": 5,
   "metadata": {},
   "outputs": [],
   "source": [
    "df[\"is_arrested\"] = df[\"is_arrested\"].astype('bool')"
   ]
  },
  {
   "cell_type": "code",
   "execution_count": 6,
   "metadata": {},
   "outputs": [
    {
     "output_type": "execute_result",
     "data": {
      "text/plain": [
       "0         2005-01-02 01:55\n",
       "1         2005-01-02 20:30\n",
       "3         2005-01-04 12:55\n",
       "4         2005-01-06 01:30\n",
       "5         2005-01-12 08:05\n",
       "                ...       \n",
       "509666    2015-12-31 22:46\n",
       "509667    2015-12-31 22:47\n",
       "509668    2015-12-31 23:08\n",
       "509669    2015-12-31 23:44\n",
       "509670    2015-12-31 23:48\n",
       "Length: 480584, dtype: object"
      ]
     },
     "metadata": {},
     "execution_count": 6
    }
   ],
   "source": [
    "df[\"stop_date\"]+ \" \"+df[\"stop_time\"]"
   ]
  },
  {
   "cell_type": "code",
   "execution_count": 7,
   "metadata": {},
   "outputs": [
    {
     "output_type": "execute_result",
     "data": {
      "text/plain": [
       "0        2005-01-02 01:55:00\n",
       "1        2005-01-02 20:30:00\n",
       "3        2005-01-04 12:55:00\n",
       "4        2005-01-06 01:30:00\n",
       "5        2005-01-12 08:05:00\n",
       "                 ...        \n",
       "509666   2015-12-31 22:46:00\n",
       "509667   2015-12-31 22:47:00\n",
       "509668   2015-12-31 23:08:00\n",
       "509669   2015-12-31 23:44:00\n",
       "509670   2015-12-31 23:48:00\n",
       "Length: 480584, dtype: datetime64[ns]"
      ]
     },
     "metadata": {},
     "execution_count": 7
    }
   ],
   "source": [
    "pd.to_datetime(df[\"stop_date\"]+ \" \"+df[\"stop_time\"])"
   ]
  },
  {
   "cell_type": "code",
   "execution_count": 8,
   "metadata": {},
   "outputs": [],
   "source": [
    "df[\"stop_datetime\"] = pd.to_datetime(df[\"stop_date\"]+ \" \"+df[\"stop_time\"])"
   ]
  },
  {
   "cell_type": "code",
   "execution_count": 9,
   "metadata": {},
   "outputs": [],
   "source": [
    "df = df.set_index(\"stop_datetime\")"
   ]
  },
  {
   "cell_type": "code",
   "execution_count": 10,
   "metadata": {},
   "outputs": [
    {
     "output_type": "execute_result",
     "data": {
      "text/plain": [
       "                                id   stop_date stop_time location_raw  \\\n",
       "stop_datetime                                                           \n",
       "2005-01-02 01:55:00  RI-2005-00001  2005-01-02     01:55      Zone K1   \n",
       "2005-01-02 20:30:00  RI-2005-00002  2005-01-02     20:30      Zone X4   \n",
       "2005-01-04 12:55:00  RI-2005-00004  2005-01-04     12:55      Zone X4   \n",
       "2005-01-06 01:30:00  RI-2005-00005  2005-01-06     01:30      Zone X4   \n",
       "2005-01-12 08:05:00  RI-2005-00006  2005-01-12     08:05      Zone X1   \n",
       "\n",
       "                     county_fips  fine_grained_location police_department  \\\n",
       "stop_datetime                                                               \n",
       "2005-01-02 01:55:00          NaN                    NaN               600   \n",
       "2005-01-02 20:30:00          NaN                    NaN               500   \n",
       "2005-01-04 12:55:00          NaN                    NaN               500   \n",
       "2005-01-06 01:30:00          NaN                    NaN               500   \n",
       "2005-01-12 08:05:00          NaN                    NaN                 0   \n",
       "\n",
       "                    driver_gender  driver_age_raw  driver_age  ...  \\\n",
       "stop_datetime                                                  ...   \n",
       "2005-01-02 01:55:00             M          1985.0        20.0  ...   \n",
       "2005-01-02 20:30:00             M          1987.0        18.0  ...   \n",
       "2005-01-04 12:55:00             M          1986.0        19.0  ...   \n",
       "2005-01-06 01:30:00             M          1978.0        27.0  ...   \n",
       "2005-01-12 08:05:00             M          1973.0        32.0  ...   \n",
       "\n",
       "                    search_conducted search_type_raw search_type  \\\n",
       "stop_datetime                                                      \n",
       "2005-01-02 01:55:00            False             NaN         NaN   \n",
       "2005-01-02 20:30:00            False             NaN         NaN   \n",
       "2005-01-04 12:55:00            False             NaN         NaN   \n",
       "2005-01-06 01:30:00            False             NaN         NaN   \n",
       "2005-01-12 08:05:00            False             NaN         NaN   \n",
       "\n",
       "                    contraband_found stop_outcome is_arrested stop_duration  \\\n",
       "stop_datetime                                                                 \n",
       "2005-01-02 01:55:00            False     Citation       False      0-15 Min   \n",
       "2005-01-02 20:30:00            False     Citation       False     16-30 Min   \n",
       "2005-01-04 12:55:00            False     Citation       False      0-15 Min   \n",
       "2005-01-06 01:30:00            False     Citation       False      0-15 Min   \n",
       "2005-01-12 08:05:00            False     Citation       False       30+ Min   \n",
       "\n",
       "                     out_of_state drugs_related_stop  district  \n",
       "stop_datetime                                                   \n",
       "2005-01-02 01:55:00         False              False   Zone K1  \n",
       "2005-01-02 20:30:00         False              False   Zone X4  \n",
       "2005-01-04 12:55:00         False              False   Zone X4  \n",
       "2005-01-06 01:30:00         False              False   Zone X4  \n",
       "2005-01-12 08:05:00          True              False   Zone X1  \n",
       "\n",
       "[5 rows x 24 columns]"
      ],
      "text/html": "<div>\n<style scoped>\n    .dataframe tbody tr th:only-of-type {\n        vertical-align: middle;\n    }\n\n    .dataframe tbody tr th {\n        vertical-align: top;\n    }\n\n    .dataframe thead th {\n        text-align: right;\n    }\n</style>\n<table border=\"1\" class=\"dataframe\">\n  <thead>\n    <tr style=\"text-align: right;\">\n      <th></th>\n      <th>id</th>\n      <th>stop_date</th>\n      <th>stop_time</th>\n      <th>location_raw</th>\n      <th>county_fips</th>\n      <th>fine_grained_location</th>\n      <th>police_department</th>\n      <th>driver_gender</th>\n      <th>driver_age_raw</th>\n      <th>driver_age</th>\n      <th>...</th>\n      <th>search_conducted</th>\n      <th>search_type_raw</th>\n      <th>search_type</th>\n      <th>contraband_found</th>\n      <th>stop_outcome</th>\n      <th>is_arrested</th>\n      <th>stop_duration</th>\n      <th>out_of_state</th>\n      <th>drugs_related_stop</th>\n      <th>district</th>\n    </tr>\n    <tr>\n      <th>stop_datetime</th>\n      <th></th>\n      <th></th>\n      <th></th>\n      <th></th>\n      <th></th>\n      <th></th>\n      <th></th>\n      <th></th>\n      <th></th>\n      <th></th>\n      <th></th>\n      <th></th>\n      <th></th>\n      <th></th>\n      <th></th>\n      <th></th>\n      <th></th>\n      <th></th>\n      <th></th>\n      <th></th>\n      <th></th>\n    </tr>\n  </thead>\n  <tbody>\n    <tr>\n      <th>2005-01-02 01:55:00</th>\n      <td>RI-2005-00001</td>\n      <td>2005-01-02</td>\n      <td>01:55</td>\n      <td>Zone K1</td>\n      <td>NaN</td>\n      <td>NaN</td>\n      <td>600</td>\n      <td>M</td>\n      <td>1985.0</td>\n      <td>20.0</td>\n      <td>...</td>\n      <td>False</td>\n      <td>NaN</td>\n      <td>NaN</td>\n      <td>False</td>\n      <td>Citation</td>\n      <td>False</td>\n      <td>0-15 Min</td>\n      <td>False</td>\n      <td>False</td>\n      <td>Zone K1</td>\n    </tr>\n    <tr>\n      <th>2005-01-02 20:30:00</th>\n      <td>RI-2005-00002</td>\n      <td>2005-01-02</td>\n      <td>20:30</td>\n      <td>Zone X4</td>\n      <td>NaN</td>\n      <td>NaN</td>\n      <td>500</td>\n      <td>M</td>\n      <td>1987.0</td>\n      <td>18.0</td>\n      <td>...</td>\n      <td>False</td>\n      <td>NaN</td>\n      <td>NaN</td>\n      <td>False</td>\n      <td>Citation</td>\n      <td>False</td>\n      <td>16-30 Min</td>\n      <td>False</td>\n      <td>False</td>\n      <td>Zone X4</td>\n    </tr>\n    <tr>\n      <th>2005-01-04 12:55:00</th>\n      <td>RI-2005-00004</td>\n      <td>2005-01-04</td>\n      <td>12:55</td>\n      <td>Zone X4</td>\n      <td>NaN</td>\n      <td>NaN</td>\n      <td>500</td>\n      <td>M</td>\n      <td>1986.0</td>\n      <td>19.0</td>\n      <td>...</td>\n      <td>False</td>\n      <td>NaN</td>\n      <td>NaN</td>\n      <td>False</td>\n      <td>Citation</td>\n      <td>False</td>\n      <td>0-15 Min</td>\n      <td>False</td>\n      <td>False</td>\n      <td>Zone X4</td>\n    </tr>\n    <tr>\n      <th>2005-01-06 01:30:00</th>\n      <td>RI-2005-00005</td>\n      <td>2005-01-06</td>\n      <td>01:30</td>\n      <td>Zone X4</td>\n      <td>NaN</td>\n      <td>NaN</td>\n      <td>500</td>\n      <td>M</td>\n      <td>1978.0</td>\n      <td>27.0</td>\n      <td>...</td>\n      <td>False</td>\n      <td>NaN</td>\n      <td>NaN</td>\n      <td>False</td>\n      <td>Citation</td>\n      <td>False</td>\n      <td>0-15 Min</td>\n      <td>False</td>\n      <td>False</td>\n      <td>Zone X4</td>\n    </tr>\n    <tr>\n      <th>2005-01-12 08:05:00</th>\n      <td>RI-2005-00006</td>\n      <td>2005-01-12</td>\n      <td>08:05</td>\n      <td>Zone X1</td>\n      <td>NaN</td>\n      <td>NaN</td>\n      <td>0</td>\n      <td>M</td>\n      <td>1973.0</td>\n      <td>32.0</td>\n      <td>...</td>\n      <td>False</td>\n      <td>NaN</td>\n      <td>NaN</td>\n      <td>False</td>\n      <td>Citation</td>\n      <td>False</td>\n      <td>30+ Min</td>\n      <td>True</td>\n      <td>False</td>\n      <td>Zone X1</td>\n    </tr>\n  </tbody>\n</table>\n<p>5 rows × 24 columns</p>\n</div>"
     },
     "metadata": {},
     "execution_count": 10
    }
   ],
   "source": [
    "df.head()"
   ]
  },
  {
   "cell_type": "markdown",
   "metadata": {},
   "source": [
    "**INSTRUCTIONS**\n",
    "\n",
    "*   Count the unique values in the ``violation`` column, to see what violations are being committed by all drivers.\n",
    "*   Express the violation counts as proportions of the total."
   ]
  },
  {
   "cell_type": "code",
   "execution_count": 11,
   "metadata": {},
   "outputs": [
    {
     "output_type": "execute_result",
     "data": {
      "text/plain": [
       "array(['Speeding', 'Equipment', 'Other', 'Moving violation',\n",
       "       'Registration/plates', 'Seat belt'], dtype=object)"
      ]
     },
     "metadata": {},
     "execution_count": 11
    }
   ],
   "source": [
    "df[\"violation\"].unique()"
   ]
  },
  {
   "cell_type": "code",
   "execution_count": 12,
   "metadata": {},
   "outputs": [
    {
     "output_type": "execute_result",
     "data": {
      "text/plain": [
       "6"
      ]
     },
     "metadata": {},
     "execution_count": 12
    }
   ],
   "source": [
    "df[\"violation\"].nunique()"
   ]
  },
  {
   "cell_type": "code",
   "execution_count": 13,
   "metadata": {},
   "outputs": [
    {
     "output_type": "execute_result",
     "data": {
      "text/plain": [
       "480584"
      ]
     },
     "metadata": {},
     "execution_count": 13
    }
   ],
   "source": [
    "len(df[\"violation\"])"
   ]
  },
  {
   "cell_type": "code",
   "execution_count": 14,
   "metadata": {},
   "outputs": [
    {
     "output_type": "execute_result",
     "data": {
      "text/plain": [
       "Speeding               268736\n",
       "Moving violation        90228\n",
       "Equipment               61250\n",
       "Other                   24216\n",
       "Registration/plates     19830\n",
       "Seat belt               16324\n",
       "Name: violation, dtype: int64"
      ]
     },
     "metadata": {},
     "execution_count": 14
    }
   ],
   "source": [
    "df[\"violation\"].value_counts(dropna=False)"
   ]
  },
  {
   "cell_type": "markdown",
   "metadata": {},
   "source": [
    "***"
   ]
  },
  {
   "cell_type": "markdown",
   "metadata": {},
   "source": [
    "## Comparing violations by gender"
   ]
  },
  {
   "cell_type": "markdown",
   "metadata": {},
   "source": [
    "The question we're trying to answer is whether male and female drivers tend to commit different types of traffic violations.\n",
    "\n",
    "You'll first create a ``DataFrame`` for each gender, and then analyze the ``violations`` in each ``DataFrame`` separately."
   ]
  },
  {
   "cell_type": "markdown",
   "metadata": {},
   "source": [
    "**INSTRUCTIONS**\n",
    "\n",
    "*   Create a ``DataFrame``, female, that only contains rows in which ``driver_gender`` is ``'F'``.\n",
    "*   Create a ``DataFrame``, male, that only contains rows in which ``driver_gender`` is ``'M'``.\n",
    "*   Count the ``violations`` committed by female drivers and express them as proportions.\n",
    "*   Count the violations committed by male drivers and express them as proportions."
   ]
  },
  {
   "cell_type": "code",
   "execution_count": 15,
   "metadata": {},
   "outputs": [
    {
     "output_type": "execute_result",
     "data": {
      "text/plain": [
       "                   id  stop_date  stop_time  location_raw  county_fips  \\\n",
       "driver_gender                                                            \n",
       "F              131138     131138     131138        131138            0   \n",
       "M              349446     349446     349446        349446            0   \n",
       "\n",
       "               fine_grained_location  police_department  driver_age_raw  \\\n",
       "driver_gender                                                             \n",
       "F                                  0             131138          131137   \n",
       "M                                  0             349446          349446   \n",
       "\n",
       "               driver_age  driver_race_raw  ...  search_conducted  \\\n",
       "driver_gender                               ...                     \n",
       "F                  130828           131138  ...            131138   \n",
       "M                  348118           349446  ...            349446   \n",
       "\n",
       "               search_type_raw  search_type  contraband_found  stop_outcome  \\\n",
       "driver_gender                                                                 \n",
       "F                         2459         2459            131138        131138   \n",
       "M                        15303        15303            349446        349446   \n",
       "\n",
       "               is_arrested  stop_duration  out_of_state  drugs_related_stop  \\\n",
       "driver_gender                                                                 \n",
       "F                   131138         131138        130958              131138   \n",
       "M                   349446         349446        348818              349446   \n",
       "\n",
       "               district  \n",
       "driver_gender            \n",
       "F                131138  \n",
       "M                349446  \n",
       "\n",
       "[2 rows x 23 columns]"
      ],
      "text/html": "<div>\n<style scoped>\n    .dataframe tbody tr th:only-of-type {\n        vertical-align: middle;\n    }\n\n    .dataframe tbody tr th {\n        vertical-align: top;\n    }\n\n    .dataframe thead th {\n        text-align: right;\n    }\n</style>\n<table border=\"1\" class=\"dataframe\">\n  <thead>\n    <tr style=\"text-align: right;\">\n      <th></th>\n      <th>id</th>\n      <th>stop_date</th>\n      <th>stop_time</th>\n      <th>location_raw</th>\n      <th>county_fips</th>\n      <th>fine_grained_location</th>\n      <th>police_department</th>\n      <th>driver_age_raw</th>\n      <th>driver_age</th>\n      <th>driver_race_raw</th>\n      <th>...</th>\n      <th>search_conducted</th>\n      <th>search_type_raw</th>\n      <th>search_type</th>\n      <th>contraband_found</th>\n      <th>stop_outcome</th>\n      <th>is_arrested</th>\n      <th>stop_duration</th>\n      <th>out_of_state</th>\n      <th>drugs_related_stop</th>\n      <th>district</th>\n    </tr>\n    <tr>\n      <th>driver_gender</th>\n      <th></th>\n      <th></th>\n      <th></th>\n      <th></th>\n      <th></th>\n      <th></th>\n      <th></th>\n      <th></th>\n      <th></th>\n      <th></th>\n      <th></th>\n      <th></th>\n      <th></th>\n      <th></th>\n      <th></th>\n      <th></th>\n      <th></th>\n      <th></th>\n      <th></th>\n      <th></th>\n      <th></th>\n    </tr>\n  </thead>\n  <tbody>\n    <tr>\n      <th>F</th>\n      <td>131138</td>\n      <td>131138</td>\n      <td>131138</td>\n      <td>131138</td>\n      <td>0</td>\n      <td>0</td>\n      <td>131138</td>\n      <td>131137</td>\n      <td>130828</td>\n      <td>131138</td>\n      <td>...</td>\n      <td>131138</td>\n      <td>2459</td>\n      <td>2459</td>\n      <td>131138</td>\n      <td>131138</td>\n      <td>131138</td>\n      <td>131138</td>\n      <td>130958</td>\n      <td>131138</td>\n      <td>131138</td>\n    </tr>\n    <tr>\n      <th>M</th>\n      <td>349446</td>\n      <td>349446</td>\n      <td>349446</td>\n      <td>349446</td>\n      <td>0</td>\n      <td>0</td>\n      <td>349446</td>\n      <td>349446</td>\n      <td>348118</td>\n      <td>349446</td>\n      <td>...</td>\n      <td>349446</td>\n      <td>15303</td>\n      <td>15303</td>\n      <td>349446</td>\n      <td>349446</td>\n      <td>349446</td>\n      <td>349446</td>\n      <td>348818</td>\n      <td>349446</td>\n      <td>349446</td>\n    </tr>\n  </tbody>\n</table>\n<p>2 rows × 23 columns</p>\n</div>"
     },
     "metadata": {},
     "execution_count": 15
    }
   ],
   "source": [
    "df.groupby(\"driver_gender\").count()"
   ]
  },
  {
   "cell_type": "code",
   "execution_count": 16,
   "metadata": {},
   "outputs": [
    {
     "output_type": "execute_result",
     "data": {
      "text/plain": [
       "                                id   stop_date stop_time location_raw  \\\n",
       "stop_datetime                                                           \n",
       "2005-02-24 01:20:00  RI-2005-00016  2005-02-24     01:20      Zone X3   \n",
       "2005-03-14 10:00:00  RI-2005-00019  2005-03-14     10:00      Zone K3   \n",
       "2005-03-29 23:20:00  RI-2005-00026  2005-03-29     23:20      Zone K3   \n",
       "2005-06-06 13:20:00  RI-2005-00035  2005-06-06     13:20      Zone X4   \n",
       "2005-06-18 16:30:00  RI-2005-00037  2005-06-18     16:30      Zone X4   \n",
       "...                            ...         ...       ...          ...   \n",
       "2015-12-31 21:59:00  RI-2015-47051  2015-12-31     21:59      Zone K3   \n",
       "2015-12-31 22:09:00  RI-2015-47054  2015-12-31     22:09      Zone K3   \n",
       "2015-12-31 22:10:00  RI-2015-47055  2015-12-31     22:10      Zone X4   \n",
       "2015-12-31 22:10:00  RI-2015-47056  2015-12-31     22:10      Zone X4   \n",
       "2015-12-31 22:39:00  RI-2015-47060  2015-12-31     22:39      Zone K3   \n",
       "\n",
       "                     county_fips  fine_grained_location police_department  \\\n",
       "stop_datetime                                                               \n",
       "2005-02-24 01:20:00          NaN                    NaN               200   \n",
       "2005-03-14 10:00:00          NaN                    NaN               300   \n",
       "2005-03-29 23:20:00          NaN                    NaN               300   \n",
       "2005-06-06 13:20:00          NaN                    NaN               500   \n",
       "2005-06-18 16:30:00          NaN                    NaN               500   \n",
       "...                          ...                    ...               ...   \n",
       "2015-12-31 21:59:00          NaN                    NaN             300.0   \n",
       "2015-12-31 22:09:00          NaN                    NaN             300.0   \n",
       "2015-12-31 22:10:00          NaN                    NaN             300.0   \n",
       "2015-12-31 22:10:00          NaN                    NaN             300.0   \n",
       "2015-12-31 22:39:00          NaN                    NaN             300.0   \n",
       "\n",
       "                    driver_gender  driver_age_raw  driver_age  ...  \\\n",
       "stop_datetime                                                  ...   \n",
       "2005-02-24 01:20:00             F          1983.0        22.0  ...   \n",
       "2005-03-14 10:00:00             F          1984.0        21.0  ...   \n",
       "2005-03-29 23:20:00             F          1971.0        34.0  ...   \n",
       "2005-06-06 13:20:00             F          1986.0        19.0  ...   \n",
       "2005-06-18 16:30:00             F          1964.0        41.0  ...   \n",
       "...                           ...             ...         ...  ...   \n",
       "2015-12-31 21:59:00             F          1994.0        21.0  ...   \n",
       "2015-12-31 22:09:00             F          1992.0        23.0  ...   \n",
       "2015-12-31 22:10:00             F          1989.0        26.0  ...   \n",
       "2015-12-31 22:10:00             F          1989.0        26.0  ...   \n",
       "2015-12-31 22:39:00             F          1976.0        39.0  ...   \n",
       "\n",
       "                    search_conducted search_type_raw search_type  \\\n",
       "stop_datetime                                                      \n",
       "2005-02-24 01:20:00            False             NaN         NaN   \n",
       "2005-03-14 10:00:00            False             NaN         NaN   \n",
       "2005-03-29 23:20:00            False             NaN         NaN   \n",
       "2005-06-06 13:20:00            False             NaN         NaN   \n",
       "2005-06-18 16:30:00            False             NaN         NaN   \n",
       "...                              ...             ...         ...   \n",
       "2015-12-31 21:59:00            False             NaN         NaN   \n",
       "2015-12-31 22:09:00            False             NaN         NaN   \n",
       "2015-12-31 22:10:00            False             NaN         NaN   \n",
       "2015-12-31 22:10:00            False             NaN         NaN   \n",
       "2015-12-31 22:39:00            False             NaN         NaN   \n",
       "\n",
       "                    contraband_found   stop_outcome is_arrested stop_duration  \\\n",
       "stop_datetime                                                                   \n",
       "2005-02-24 01:20:00            False       Citation       False      0-15 Min   \n",
       "2005-03-14 10:00:00            False       Citation       False      0-15 Min   \n",
       "2005-03-29 23:20:00            False       Citation       False      0-15 Min   \n",
       "2005-06-06 13:20:00            False       Citation       False      0-15 Min   \n",
       "2005-06-18 16:30:00            False  Arrest Driver        True       30+ Min   \n",
       "...                              ...            ...         ...           ...   \n",
       "2015-12-31 21:59:00            False       Citation       False      0-15 Min   \n",
       "2015-12-31 22:09:00            False        Warning       False      0-15 Min   \n",
       "2015-12-31 22:10:00            False        Warning       False      0-15 Min   \n",
       "2015-12-31 22:10:00            False  Arrest Driver        True      0-15 Min   \n",
       "2015-12-31 22:39:00            False       Citation       False     16-30 Min   \n",
       "\n",
       "                     out_of_state drugs_related_stop  district  \n",
       "stop_datetime                                                   \n",
       "2005-02-24 01:20:00          True              False   Zone X3  \n",
       "2005-03-14 10:00:00         False              False   Zone K3  \n",
       "2005-03-29 23:20:00          True              False   Zone K3  \n",
       "2005-06-06 13:20:00         False              False   Zone X4  \n",
       "2005-06-18 16:30:00         False              False   Zone X4  \n",
       "...                           ...                ...       ...  \n",
       "2015-12-31 21:59:00         False              False   Zone K3  \n",
       "2015-12-31 22:09:00         False              False   Zone K3  \n",
       "2015-12-31 22:10:00         False              False   Zone X4  \n",
       "2015-12-31 22:10:00         False              False   Zone X4  \n",
       "2015-12-31 22:39:00          True              False   Zone K3  \n",
       "\n",
       "[131138 rows x 24 columns]"
      ],
      "text/html": "<div>\n<style scoped>\n    .dataframe tbody tr th:only-of-type {\n        vertical-align: middle;\n    }\n\n    .dataframe tbody tr th {\n        vertical-align: top;\n    }\n\n    .dataframe thead th {\n        text-align: right;\n    }\n</style>\n<table border=\"1\" class=\"dataframe\">\n  <thead>\n    <tr style=\"text-align: right;\">\n      <th></th>\n      <th>id</th>\n      <th>stop_date</th>\n      <th>stop_time</th>\n      <th>location_raw</th>\n      <th>county_fips</th>\n      <th>fine_grained_location</th>\n      <th>police_department</th>\n      <th>driver_gender</th>\n      <th>driver_age_raw</th>\n      <th>driver_age</th>\n      <th>...</th>\n      <th>search_conducted</th>\n      <th>search_type_raw</th>\n      <th>search_type</th>\n      <th>contraband_found</th>\n      <th>stop_outcome</th>\n      <th>is_arrested</th>\n      <th>stop_duration</th>\n      <th>out_of_state</th>\n      <th>drugs_related_stop</th>\n      <th>district</th>\n    </tr>\n    <tr>\n      <th>stop_datetime</th>\n      <th></th>\n      <th></th>\n      <th></th>\n      <th></th>\n      <th></th>\n      <th></th>\n      <th></th>\n      <th></th>\n      <th></th>\n      <th></th>\n      <th></th>\n      <th></th>\n      <th></th>\n      <th></th>\n      <th></th>\n      <th></th>\n      <th></th>\n      <th></th>\n      <th></th>\n      <th></th>\n      <th></th>\n    </tr>\n  </thead>\n  <tbody>\n    <tr>\n      <th>2005-02-24 01:20:00</th>\n      <td>RI-2005-00016</td>\n      <td>2005-02-24</td>\n      <td>01:20</td>\n      <td>Zone X3</td>\n      <td>NaN</td>\n      <td>NaN</td>\n      <td>200</td>\n      <td>F</td>\n      <td>1983.0</td>\n      <td>22.0</td>\n      <td>...</td>\n      <td>False</td>\n      <td>NaN</td>\n      <td>NaN</td>\n      <td>False</td>\n      <td>Citation</td>\n      <td>False</td>\n      <td>0-15 Min</td>\n      <td>True</td>\n      <td>False</td>\n      <td>Zone X3</td>\n    </tr>\n    <tr>\n      <th>2005-03-14 10:00:00</th>\n      <td>RI-2005-00019</td>\n      <td>2005-03-14</td>\n      <td>10:00</td>\n      <td>Zone K3</td>\n      <td>NaN</td>\n      <td>NaN</td>\n      <td>300</td>\n      <td>F</td>\n      <td>1984.0</td>\n      <td>21.0</td>\n      <td>...</td>\n      <td>False</td>\n      <td>NaN</td>\n      <td>NaN</td>\n      <td>False</td>\n      <td>Citation</td>\n      <td>False</td>\n      <td>0-15 Min</td>\n      <td>False</td>\n      <td>False</td>\n      <td>Zone K3</td>\n    </tr>\n    <tr>\n      <th>2005-03-29 23:20:00</th>\n      <td>RI-2005-00026</td>\n      <td>2005-03-29</td>\n      <td>23:20</td>\n      <td>Zone K3</td>\n      <td>NaN</td>\n      <td>NaN</td>\n      <td>300</td>\n      <td>F</td>\n      <td>1971.0</td>\n      <td>34.0</td>\n      <td>...</td>\n      <td>False</td>\n      <td>NaN</td>\n      <td>NaN</td>\n      <td>False</td>\n      <td>Citation</td>\n      <td>False</td>\n      <td>0-15 Min</td>\n      <td>True</td>\n      <td>False</td>\n      <td>Zone K3</td>\n    </tr>\n    <tr>\n      <th>2005-06-06 13:20:00</th>\n      <td>RI-2005-00035</td>\n      <td>2005-06-06</td>\n      <td>13:20</td>\n      <td>Zone X4</td>\n      <td>NaN</td>\n      <td>NaN</td>\n      <td>500</td>\n      <td>F</td>\n      <td>1986.0</td>\n      <td>19.0</td>\n      <td>...</td>\n      <td>False</td>\n      <td>NaN</td>\n      <td>NaN</td>\n      <td>False</td>\n      <td>Citation</td>\n      <td>False</td>\n      <td>0-15 Min</td>\n      <td>False</td>\n      <td>False</td>\n      <td>Zone X4</td>\n    </tr>\n    <tr>\n      <th>2005-06-18 16:30:00</th>\n      <td>RI-2005-00037</td>\n      <td>2005-06-18</td>\n      <td>16:30</td>\n      <td>Zone X4</td>\n      <td>NaN</td>\n      <td>NaN</td>\n      <td>500</td>\n      <td>F</td>\n      <td>1964.0</td>\n      <td>41.0</td>\n      <td>...</td>\n      <td>False</td>\n      <td>NaN</td>\n      <td>NaN</td>\n      <td>False</td>\n      <td>Arrest Driver</td>\n      <td>True</td>\n      <td>30+ Min</td>\n      <td>False</td>\n      <td>False</td>\n      <td>Zone X4</td>\n    </tr>\n    <tr>\n      <th>...</th>\n      <td>...</td>\n      <td>...</td>\n      <td>...</td>\n      <td>...</td>\n      <td>...</td>\n      <td>...</td>\n      <td>...</td>\n      <td>...</td>\n      <td>...</td>\n      <td>...</td>\n      <td>...</td>\n      <td>...</td>\n      <td>...</td>\n      <td>...</td>\n      <td>...</td>\n      <td>...</td>\n      <td>...</td>\n      <td>...</td>\n      <td>...</td>\n      <td>...</td>\n      <td>...</td>\n    </tr>\n    <tr>\n      <th>2015-12-31 21:59:00</th>\n      <td>RI-2015-47051</td>\n      <td>2015-12-31</td>\n      <td>21:59</td>\n      <td>Zone K3</td>\n      <td>NaN</td>\n      <td>NaN</td>\n      <td>300.0</td>\n      <td>F</td>\n      <td>1994.0</td>\n      <td>21.0</td>\n      <td>...</td>\n      <td>False</td>\n      <td>NaN</td>\n      <td>NaN</td>\n      <td>False</td>\n      <td>Citation</td>\n      <td>False</td>\n      <td>0-15 Min</td>\n      <td>False</td>\n      <td>False</td>\n      <td>Zone K3</td>\n    </tr>\n    <tr>\n      <th>2015-12-31 22:09:00</th>\n      <td>RI-2015-47054</td>\n      <td>2015-12-31</td>\n      <td>22:09</td>\n      <td>Zone K3</td>\n      <td>NaN</td>\n      <td>NaN</td>\n      <td>300.0</td>\n      <td>F</td>\n      <td>1992.0</td>\n      <td>23.0</td>\n      <td>...</td>\n      <td>False</td>\n      <td>NaN</td>\n      <td>NaN</td>\n      <td>False</td>\n      <td>Warning</td>\n      <td>False</td>\n      <td>0-15 Min</td>\n      <td>False</td>\n      <td>False</td>\n      <td>Zone K3</td>\n    </tr>\n    <tr>\n      <th>2015-12-31 22:10:00</th>\n      <td>RI-2015-47055</td>\n      <td>2015-12-31</td>\n      <td>22:10</td>\n      <td>Zone X4</td>\n      <td>NaN</td>\n      <td>NaN</td>\n      <td>300.0</td>\n      <td>F</td>\n      <td>1989.0</td>\n      <td>26.0</td>\n      <td>...</td>\n      <td>False</td>\n      <td>NaN</td>\n      <td>NaN</td>\n      <td>False</td>\n      <td>Warning</td>\n      <td>False</td>\n      <td>0-15 Min</td>\n      <td>False</td>\n      <td>False</td>\n      <td>Zone X4</td>\n    </tr>\n    <tr>\n      <th>2015-12-31 22:10:00</th>\n      <td>RI-2015-47056</td>\n      <td>2015-12-31</td>\n      <td>22:10</td>\n      <td>Zone X4</td>\n      <td>NaN</td>\n      <td>NaN</td>\n      <td>300.0</td>\n      <td>F</td>\n      <td>1989.0</td>\n      <td>26.0</td>\n      <td>...</td>\n      <td>False</td>\n      <td>NaN</td>\n      <td>NaN</td>\n      <td>False</td>\n      <td>Arrest Driver</td>\n      <td>True</td>\n      <td>0-15 Min</td>\n      <td>False</td>\n      <td>False</td>\n      <td>Zone X4</td>\n    </tr>\n    <tr>\n      <th>2015-12-31 22:39:00</th>\n      <td>RI-2015-47060</td>\n      <td>2015-12-31</td>\n      <td>22:39</td>\n      <td>Zone K3</td>\n      <td>NaN</td>\n      <td>NaN</td>\n      <td>300.0</td>\n      <td>F</td>\n      <td>1976.0</td>\n      <td>39.0</td>\n      <td>...</td>\n      <td>False</td>\n      <td>NaN</td>\n      <td>NaN</td>\n      <td>False</td>\n      <td>Citation</td>\n      <td>False</td>\n      <td>16-30 Min</td>\n      <td>True</td>\n      <td>False</td>\n      <td>Zone K3</td>\n    </tr>\n  </tbody>\n</table>\n<p>131138 rows × 24 columns</p>\n</div>"
     },
     "metadata": {},
     "execution_count": 16
    }
   ],
   "source": [
    "df_f = df[df[\"driver_gender\"] == \"F\"]\n",
    "df_f"
   ]
  },
  {
   "cell_type": "code",
   "execution_count": 17,
   "metadata": {},
   "outputs": [
    {
     "output_type": "execute_result",
     "data": {
      "text/plain": [
       "                                id   stop_date stop_time location_raw  \\\n",
       "stop_datetime                                                           \n",
       "2005-01-02 01:55:00  RI-2005-00001  2005-01-02     01:55      Zone K1   \n",
       "2005-01-02 20:30:00  RI-2005-00002  2005-01-02     20:30      Zone X4   \n",
       "2005-01-04 12:55:00  RI-2005-00004  2005-01-04     12:55      Zone X4   \n",
       "2005-01-06 01:30:00  RI-2005-00005  2005-01-06     01:30      Zone X4   \n",
       "2005-01-12 08:05:00  RI-2005-00006  2005-01-12     08:05      Zone X1   \n",
       "...                            ...         ...       ...          ...   \n",
       "2015-12-31 22:46:00  RI-2015-47061  2015-12-31     22:46      Zone X1   \n",
       "2015-12-31 22:47:00  RI-2015-47062  2015-12-31     22:47      Zone X4   \n",
       "2015-12-31 23:08:00  RI-2015-47063  2015-12-31     23:08      Zone X3   \n",
       "2015-12-31 23:44:00  RI-2015-47064  2015-12-31     23:44      Zone K2   \n",
       "2015-12-31 23:48:00  RI-2015-47065  2015-12-31     23:48      Zone K3   \n",
       "\n",
       "                     county_fips  fine_grained_location police_department  \\\n",
       "stop_datetime                                                               \n",
       "2005-01-02 01:55:00          NaN                    NaN               600   \n",
       "2005-01-02 20:30:00          NaN                    NaN               500   \n",
       "2005-01-04 12:55:00          NaN                    NaN               500   \n",
       "2005-01-06 01:30:00          NaN                    NaN               500   \n",
       "2005-01-12 08:05:00          NaN                    NaN                 0   \n",
       "...                          ...                    ...               ...   \n",
       "2015-12-31 22:46:00          NaN                    NaN               0.0   \n",
       "2015-12-31 22:47:00          NaN                    NaN             500.0   \n",
       "2015-12-31 23:08:00          NaN                    NaN             200.0   \n",
       "2015-12-31 23:44:00          NaN                    NaN             900.0   \n",
       "2015-12-31 23:48:00          NaN                    NaN             300.0   \n",
       "\n",
       "                    driver_gender  driver_age_raw  driver_age  ...  \\\n",
       "stop_datetime                                                  ...   \n",
       "2005-01-02 01:55:00             M          1985.0        20.0  ...   \n",
       "2005-01-02 20:30:00             M          1987.0        18.0  ...   \n",
       "2005-01-04 12:55:00             M          1986.0        19.0  ...   \n",
       "2005-01-06 01:30:00             M          1978.0        27.0  ...   \n",
       "2005-01-12 08:05:00             M          1973.0        32.0  ...   \n",
       "...                           ...             ...         ...  ...   \n",
       "2015-12-31 22:46:00             M          1959.0        56.0  ...   \n",
       "2015-12-31 22:47:00             M          1988.0        27.0  ...   \n",
       "2015-12-31 23:08:00             M          1980.0        35.0  ...   \n",
       "2015-12-31 23:44:00             M          1984.0        31.0  ...   \n",
       "2015-12-31 23:48:00             M          1988.0        27.0  ...   \n",
       "\n",
       "                    search_conducted search_type_raw search_type  \\\n",
       "stop_datetime                                                      \n",
       "2005-01-02 01:55:00            False             NaN         NaN   \n",
       "2005-01-02 20:30:00            False             NaN         NaN   \n",
       "2005-01-04 12:55:00            False             NaN         NaN   \n",
       "2005-01-06 01:30:00            False             NaN         NaN   \n",
       "2005-01-12 08:05:00            False             NaN         NaN   \n",
       "...                              ...             ...         ...   \n",
       "2015-12-31 22:46:00            False             NaN         NaN   \n",
       "2015-12-31 22:47:00            False             NaN         NaN   \n",
       "2015-12-31 23:08:00            False             NaN         NaN   \n",
       "2015-12-31 23:44:00            False             NaN         NaN   \n",
       "2015-12-31 23:48:00            False             NaN         NaN   \n",
       "\n",
       "                    contraband_found stop_outcome is_arrested stop_duration  \\\n",
       "stop_datetime                                                                 \n",
       "2005-01-02 01:55:00            False     Citation       False      0-15 Min   \n",
       "2005-01-02 20:30:00            False     Citation       False     16-30 Min   \n",
       "2005-01-04 12:55:00            False     Citation       False      0-15 Min   \n",
       "2005-01-06 01:30:00            False     Citation       False      0-15 Min   \n",
       "2005-01-12 08:05:00            False     Citation       False       30+ Min   \n",
       "...                              ...          ...         ...           ...   \n",
       "2015-12-31 22:46:00            False     Citation       False      0-15 Min   \n",
       "2015-12-31 22:47:00            False     Citation       False      0-15 Min   \n",
       "2015-12-31 23:08:00            False     Citation       False      0-15 Min   \n",
       "2015-12-31 23:44:00            False     Citation       False      0-15 Min   \n",
       "2015-12-31 23:48:00            False     Citation       False      0-15 Min   \n",
       "\n",
       "                     out_of_state drugs_related_stop  district  \n",
       "stop_datetime                                                   \n",
       "2005-01-02 01:55:00         False              False   Zone K1  \n",
       "2005-01-02 20:30:00         False              False   Zone X4  \n",
       "2005-01-04 12:55:00         False              False   Zone X4  \n",
       "2005-01-06 01:30:00         False              False   Zone X4  \n",
       "2005-01-12 08:05:00          True              False   Zone X1  \n",
       "...                           ...                ...       ...  \n",
       "2015-12-31 22:46:00          True              False   Zone X1  \n",
       "2015-12-31 22:47:00         False              False   Zone X4  \n",
       "2015-12-31 23:08:00         False              False   Zone X3  \n",
       "2015-12-31 23:44:00         False              False   Zone K2  \n",
       "2015-12-31 23:48:00         False              False   Zone K3  \n",
       "\n",
       "[349446 rows x 24 columns]"
      ],
      "text/html": "<div>\n<style scoped>\n    .dataframe tbody tr th:only-of-type {\n        vertical-align: middle;\n    }\n\n    .dataframe tbody tr th {\n        vertical-align: top;\n    }\n\n    .dataframe thead th {\n        text-align: right;\n    }\n</style>\n<table border=\"1\" class=\"dataframe\">\n  <thead>\n    <tr style=\"text-align: right;\">\n      <th></th>\n      <th>id</th>\n      <th>stop_date</th>\n      <th>stop_time</th>\n      <th>location_raw</th>\n      <th>county_fips</th>\n      <th>fine_grained_location</th>\n      <th>police_department</th>\n      <th>driver_gender</th>\n      <th>driver_age_raw</th>\n      <th>driver_age</th>\n      <th>...</th>\n      <th>search_conducted</th>\n      <th>search_type_raw</th>\n      <th>search_type</th>\n      <th>contraband_found</th>\n      <th>stop_outcome</th>\n      <th>is_arrested</th>\n      <th>stop_duration</th>\n      <th>out_of_state</th>\n      <th>drugs_related_stop</th>\n      <th>district</th>\n    </tr>\n    <tr>\n      <th>stop_datetime</th>\n      <th></th>\n      <th></th>\n      <th></th>\n      <th></th>\n      <th></th>\n      <th></th>\n      <th></th>\n      <th></th>\n      <th></th>\n      <th></th>\n      <th></th>\n      <th></th>\n      <th></th>\n      <th></th>\n      <th></th>\n      <th></th>\n      <th></th>\n      <th></th>\n      <th></th>\n      <th></th>\n      <th></th>\n    </tr>\n  </thead>\n  <tbody>\n    <tr>\n      <th>2005-01-02 01:55:00</th>\n      <td>RI-2005-00001</td>\n      <td>2005-01-02</td>\n      <td>01:55</td>\n      <td>Zone K1</td>\n      <td>NaN</td>\n      <td>NaN</td>\n      <td>600</td>\n      <td>M</td>\n      <td>1985.0</td>\n      <td>20.0</td>\n      <td>...</td>\n      <td>False</td>\n      <td>NaN</td>\n      <td>NaN</td>\n      <td>False</td>\n      <td>Citation</td>\n      <td>False</td>\n      <td>0-15 Min</td>\n      <td>False</td>\n      <td>False</td>\n      <td>Zone K1</td>\n    </tr>\n    <tr>\n      <th>2005-01-02 20:30:00</th>\n      <td>RI-2005-00002</td>\n      <td>2005-01-02</td>\n      <td>20:30</td>\n      <td>Zone X4</td>\n      <td>NaN</td>\n      <td>NaN</td>\n      <td>500</td>\n      <td>M</td>\n      <td>1987.0</td>\n      <td>18.0</td>\n      <td>...</td>\n      <td>False</td>\n      <td>NaN</td>\n      <td>NaN</td>\n      <td>False</td>\n      <td>Citation</td>\n      <td>False</td>\n      <td>16-30 Min</td>\n      <td>False</td>\n      <td>False</td>\n      <td>Zone X4</td>\n    </tr>\n    <tr>\n      <th>2005-01-04 12:55:00</th>\n      <td>RI-2005-00004</td>\n      <td>2005-01-04</td>\n      <td>12:55</td>\n      <td>Zone X4</td>\n      <td>NaN</td>\n      <td>NaN</td>\n      <td>500</td>\n      <td>M</td>\n      <td>1986.0</td>\n      <td>19.0</td>\n      <td>...</td>\n      <td>False</td>\n      <td>NaN</td>\n      <td>NaN</td>\n      <td>False</td>\n      <td>Citation</td>\n      <td>False</td>\n      <td>0-15 Min</td>\n      <td>False</td>\n      <td>False</td>\n      <td>Zone X4</td>\n    </tr>\n    <tr>\n      <th>2005-01-06 01:30:00</th>\n      <td>RI-2005-00005</td>\n      <td>2005-01-06</td>\n      <td>01:30</td>\n      <td>Zone X4</td>\n      <td>NaN</td>\n      <td>NaN</td>\n      <td>500</td>\n      <td>M</td>\n      <td>1978.0</td>\n      <td>27.0</td>\n      <td>...</td>\n      <td>False</td>\n      <td>NaN</td>\n      <td>NaN</td>\n      <td>False</td>\n      <td>Citation</td>\n      <td>False</td>\n      <td>0-15 Min</td>\n      <td>False</td>\n      <td>False</td>\n      <td>Zone X4</td>\n    </tr>\n    <tr>\n      <th>2005-01-12 08:05:00</th>\n      <td>RI-2005-00006</td>\n      <td>2005-01-12</td>\n      <td>08:05</td>\n      <td>Zone X1</td>\n      <td>NaN</td>\n      <td>NaN</td>\n      <td>0</td>\n      <td>M</td>\n      <td>1973.0</td>\n      <td>32.0</td>\n      <td>...</td>\n      <td>False</td>\n      <td>NaN</td>\n      <td>NaN</td>\n      <td>False</td>\n      <td>Citation</td>\n      <td>False</td>\n      <td>30+ Min</td>\n      <td>True</td>\n      <td>False</td>\n      <td>Zone X1</td>\n    </tr>\n    <tr>\n      <th>...</th>\n      <td>...</td>\n      <td>...</td>\n      <td>...</td>\n      <td>...</td>\n      <td>...</td>\n      <td>...</td>\n      <td>...</td>\n      <td>...</td>\n      <td>...</td>\n      <td>...</td>\n      <td>...</td>\n      <td>...</td>\n      <td>...</td>\n      <td>...</td>\n      <td>...</td>\n      <td>...</td>\n      <td>...</td>\n      <td>...</td>\n      <td>...</td>\n      <td>...</td>\n      <td>...</td>\n    </tr>\n    <tr>\n      <th>2015-12-31 22:46:00</th>\n      <td>RI-2015-47061</td>\n      <td>2015-12-31</td>\n      <td>22:46</td>\n      <td>Zone X1</td>\n      <td>NaN</td>\n      <td>NaN</td>\n      <td>0.0</td>\n      <td>M</td>\n      <td>1959.0</td>\n      <td>56.0</td>\n      <td>...</td>\n      <td>False</td>\n      <td>NaN</td>\n      <td>NaN</td>\n      <td>False</td>\n      <td>Citation</td>\n      <td>False</td>\n      <td>0-15 Min</td>\n      <td>True</td>\n      <td>False</td>\n      <td>Zone X1</td>\n    </tr>\n    <tr>\n      <th>2015-12-31 22:47:00</th>\n      <td>RI-2015-47062</td>\n      <td>2015-12-31</td>\n      <td>22:47</td>\n      <td>Zone X4</td>\n      <td>NaN</td>\n      <td>NaN</td>\n      <td>500.0</td>\n      <td>M</td>\n      <td>1988.0</td>\n      <td>27.0</td>\n      <td>...</td>\n      <td>False</td>\n      <td>NaN</td>\n      <td>NaN</td>\n      <td>False</td>\n      <td>Citation</td>\n      <td>False</td>\n      <td>0-15 Min</td>\n      <td>False</td>\n      <td>False</td>\n      <td>Zone X4</td>\n    </tr>\n    <tr>\n      <th>2015-12-31 23:08:00</th>\n      <td>RI-2015-47063</td>\n      <td>2015-12-31</td>\n      <td>23:08</td>\n      <td>Zone X3</td>\n      <td>NaN</td>\n      <td>NaN</td>\n      <td>200.0</td>\n      <td>M</td>\n      <td>1980.0</td>\n      <td>35.0</td>\n      <td>...</td>\n      <td>False</td>\n      <td>NaN</td>\n      <td>NaN</td>\n      <td>False</td>\n      <td>Citation</td>\n      <td>False</td>\n      <td>0-15 Min</td>\n      <td>False</td>\n      <td>False</td>\n      <td>Zone X3</td>\n    </tr>\n    <tr>\n      <th>2015-12-31 23:44:00</th>\n      <td>RI-2015-47064</td>\n      <td>2015-12-31</td>\n      <td>23:44</td>\n      <td>Zone K2</td>\n      <td>NaN</td>\n      <td>NaN</td>\n      <td>900.0</td>\n      <td>M</td>\n      <td>1984.0</td>\n      <td>31.0</td>\n      <td>...</td>\n      <td>False</td>\n      <td>NaN</td>\n      <td>NaN</td>\n      <td>False</td>\n      <td>Citation</td>\n      <td>False</td>\n      <td>0-15 Min</td>\n      <td>False</td>\n      <td>False</td>\n      <td>Zone K2</td>\n    </tr>\n    <tr>\n      <th>2015-12-31 23:48:00</th>\n      <td>RI-2015-47065</td>\n      <td>2015-12-31</td>\n      <td>23:48</td>\n      <td>Zone K3</td>\n      <td>NaN</td>\n      <td>NaN</td>\n      <td>300.0</td>\n      <td>M</td>\n      <td>1988.0</td>\n      <td>27.0</td>\n      <td>...</td>\n      <td>False</td>\n      <td>NaN</td>\n      <td>NaN</td>\n      <td>False</td>\n      <td>Citation</td>\n      <td>False</td>\n      <td>0-15 Min</td>\n      <td>False</td>\n      <td>False</td>\n      <td>Zone K3</td>\n    </tr>\n  </tbody>\n</table>\n<p>349446 rows × 24 columns</p>\n</div>"
     },
     "metadata": {},
     "execution_count": 17
    }
   ],
   "source": [
    "df_m = df[df[\"driver_gender\"] == \"M\"]\n",
    "df_m"
   ]
  },
  {
   "cell_type": "code",
   "execution_count": 18,
   "metadata": {},
   "outputs": [
    {
     "output_type": "execute_result",
     "data": {
      "text/plain": [
       "131138"
      ]
     },
     "metadata": {},
     "execution_count": 18
    }
   ],
   "source": [
    "df_f[\"violation\"].count()"
   ]
  },
  {
   "cell_type": "code",
   "execution_count": 19,
   "metadata": {},
   "outputs": [
    {
     "output_type": "execute_result",
     "data": {
      "text/plain": [
       "                        id  stop_date  stop_time  location_raw  county_fips  \\\n",
       "violation                                                                     \n",
       "Equipment            14039      14039      14039         14039            0   \n",
       "Moving violation     17911      17911      17911         17911            0   \n",
       "Other                 3791       3791       3791          3791            0   \n",
       "Registration/plates   5649       5649       5649          5649            0   \n",
       "Seat belt             3550       3550       3550          3550            0   \n",
       "Speeding             86198      86198      86198         86198            0   \n",
       "\n",
       "                     fine_grained_location  police_department  driver_gender  \\\n",
       "violation                                                                      \n",
       "Equipment                                0              14039          14039   \n",
       "Moving violation                         0              17911          17911   \n",
       "Other                                    0               3791           3791   \n",
       "Registration/plates                      0               5649           5649   \n",
       "Seat belt                                0               3550           3550   \n",
       "Speeding                                 0              86198          86198   \n",
       "\n",
       "                     driver_age_raw  driver_age  ...  search_conducted  \\\n",
       "violation                                        ...                     \n",
       "Equipment                     14038       14017  ...             14039   \n",
       "Moving violation              17911       17866  ...             17911   \n",
       "Other                          3791        3724  ...              3791   \n",
       "Registration/plates            5649        5644  ...              5649   \n",
       "Seat belt                      3550        3549  ...              3550   \n",
       "Speeding                      86198       86028  ...             86198   \n",
       "\n",
       "                     search_type_raw  search_type  contraband_found  \\\n",
       "violation                                                             \n",
       "Equipment                        565          565             14039   \n",
       "Moving violation                 681          681             17911   \n",
       "Other                            174          174              3791   \n",
       "Registration/plates              309          309              5649   \n",
       "Seat belt                         63           63              3550   \n",
       "Speeding                         667          667             86198   \n",
       "\n",
       "                     stop_outcome  is_arrested  stop_duration  out_of_state  \\\n",
       "violation                                                                     \n",
       "Equipment                   14039        14039          14039         14022   \n",
       "Moving violation            17911        17911          17911         17883   \n",
       "Other                        3791         3791           3791          3772   \n",
       "Registration/plates          5649         5649           5649          5641   \n",
       "Seat belt                    3550         3550           3550          3542   \n",
       "Speeding                    86198        86198          86198         86098   \n",
       "\n",
       "                     drugs_related_stop  district  \n",
       "violation                                          \n",
       "Equipment                         14039     14039  \n",
       "Moving violation                  17911     17911  \n",
       "Other                              3791      3791  \n",
       "Registration/plates                5649      5649  \n",
       "Seat belt                          3550      3550  \n",
       "Speeding                          86198     86198  \n",
       "\n",
       "[6 rows x 23 columns]"
      ],
      "text/html": "<div>\n<style scoped>\n    .dataframe tbody tr th:only-of-type {\n        vertical-align: middle;\n    }\n\n    .dataframe tbody tr th {\n        vertical-align: top;\n    }\n\n    .dataframe thead th {\n        text-align: right;\n    }\n</style>\n<table border=\"1\" class=\"dataframe\">\n  <thead>\n    <tr style=\"text-align: right;\">\n      <th></th>\n      <th>id</th>\n      <th>stop_date</th>\n      <th>stop_time</th>\n      <th>location_raw</th>\n      <th>county_fips</th>\n      <th>fine_grained_location</th>\n      <th>police_department</th>\n      <th>driver_gender</th>\n      <th>driver_age_raw</th>\n      <th>driver_age</th>\n      <th>...</th>\n      <th>search_conducted</th>\n      <th>search_type_raw</th>\n      <th>search_type</th>\n      <th>contraband_found</th>\n      <th>stop_outcome</th>\n      <th>is_arrested</th>\n      <th>stop_duration</th>\n      <th>out_of_state</th>\n      <th>drugs_related_stop</th>\n      <th>district</th>\n    </tr>\n    <tr>\n      <th>violation</th>\n      <th></th>\n      <th></th>\n      <th></th>\n      <th></th>\n      <th></th>\n      <th></th>\n      <th></th>\n      <th></th>\n      <th></th>\n      <th></th>\n      <th></th>\n      <th></th>\n      <th></th>\n      <th></th>\n      <th></th>\n      <th></th>\n      <th></th>\n      <th></th>\n      <th></th>\n      <th></th>\n      <th></th>\n    </tr>\n  </thead>\n  <tbody>\n    <tr>\n      <th>Equipment</th>\n      <td>14039</td>\n      <td>14039</td>\n      <td>14039</td>\n      <td>14039</td>\n      <td>0</td>\n      <td>0</td>\n      <td>14039</td>\n      <td>14039</td>\n      <td>14038</td>\n      <td>14017</td>\n      <td>...</td>\n      <td>14039</td>\n      <td>565</td>\n      <td>565</td>\n      <td>14039</td>\n      <td>14039</td>\n      <td>14039</td>\n      <td>14039</td>\n      <td>14022</td>\n      <td>14039</td>\n      <td>14039</td>\n    </tr>\n    <tr>\n      <th>Moving violation</th>\n      <td>17911</td>\n      <td>17911</td>\n      <td>17911</td>\n      <td>17911</td>\n      <td>0</td>\n      <td>0</td>\n      <td>17911</td>\n      <td>17911</td>\n      <td>17911</td>\n      <td>17866</td>\n      <td>...</td>\n      <td>17911</td>\n      <td>681</td>\n      <td>681</td>\n      <td>17911</td>\n      <td>17911</td>\n      <td>17911</td>\n      <td>17911</td>\n      <td>17883</td>\n      <td>17911</td>\n      <td>17911</td>\n    </tr>\n    <tr>\n      <th>Other</th>\n      <td>3791</td>\n      <td>3791</td>\n      <td>3791</td>\n      <td>3791</td>\n      <td>0</td>\n      <td>0</td>\n      <td>3791</td>\n      <td>3791</td>\n      <td>3791</td>\n      <td>3724</td>\n      <td>...</td>\n      <td>3791</td>\n      <td>174</td>\n      <td>174</td>\n      <td>3791</td>\n      <td>3791</td>\n      <td>3791</td>\n      <td>3791</td>\n      <td>3772</td>\n      <td>3791</td>\n      <td>3791</td>\n    </tr>\n    <tr>\n      <th>Registration/plates</th>\n      <td>5649</td>\n      <td>5649</td>\n      <td>5649</td>\n      <td>5649</td>\n      <td>0</td>\n      <td>0</td>\n      <td>5649</td>\n      <td>5649</td>\n      <td>5649</td>\n      <td>5644</td>\n      <td>...</td>\n      <td>5649</td>\n      <td>309</td>\n      <td>309</td>\n      <td>5649</td>\n      <td>5649</td>\n      <td>5649</td>\n      <td>5649</td>\n      <td>5641</td>\n      <td>5649</td>\n      <td>5649</td>\n    </tr>\n    <tr>\n      <th>Seat belt</th>\n      <td>3550</td>\n      <td>3550</td>\n      <td>3550</td>\n      <td>3550</td>\n      <td>0</td>\n      <td>0</td>\n      <td>3550</td>\n      <td>3550</td>\n      <td>3550</td>\n      <td>3549</td>\n      <td>...</td>\n      <td>3550</td>\n      <td>63</td>\n      <td>63</td>\n      <td>3550</td>\n      <td>3550</td>\n      <td>3550</td>\n      <td>3550</td>\n      <td>3542</td>\n      <td>3550</td>\n      <td>3550</td>\n    </tr>\n    <tr>\n      <th>Speeding</th>\n      <td>86198</td>\n      <td>86198</td>\n      <td>86198</td>\n      <td>86198</td>\n      <td>0</td>\n      <td>0</td>\n      <td>86198</td>\n      <td>86198</td>\n      <td>86198</td>\n      <td>86028</td>\n      <td>...</td>\n      <td>86198</td>\n      <td>667</td>\n      <td>667</td>\n      <td>86198</td>\n      <td>86198</td>\n      <td>86198</td>\n      <td>86198</td>\n      <td>86098</td>\n      <td>86198</td>\n      <td>86198</td>\n    </tr>\n  </tbody>\n</table>\n<p>6 rows × 23 columns</p>\n</div>"
     },
     "metadata": {},
     "execution_count": 19
    }
   ],
   "source": [
    "df_f.groupby(\"violation\").count()"
   ]
  },
  {
   "cell_type": "code",
   "execution_count": 20,
   "metadata": {},
   "outputs": [
    {
     "output_type": "execute_result",
     "data": {
      "text/plain": [
       "349446"
      ]
     },
     "metadata": {},
     "execution_count": 20
    }
   ],
   "source": [
    "df_m[\"violation\"].count()"
   ]
  },
  {
   "cell_type": "code",
   "execution_count": 21,
   "metadata": {},
   "outputs": [
    {
     "output_type": "execute_result",
     "data": {
      "text/plain": [
       "                         id  stop_date  stop_time  location_raw  county_fips  \\\n",
       "violation                                                                      \n",
       "Equipment             47211      47211      47211         47211            0   \n",
       "Moving violation      72317      72317      72317         72317            0   \n",
       "Other                 20425      20425      20425         20425            0   \n",
       "Registration/plates   14181      14181      14181         14181            0   \n",
       "Seat belt             12774      12774      12774         12774            0   \n",
       "Speeding             182538     182538     182538        182538            0   \n",
       "\n",
       "                     fine_grained_location  police_department  driver_gender  \\\n",
       "violation                                                                      \n",
       "Equipment                                0              47211          47211   \n",
       "Moving violation                         0              72317          72317   \n",
       "Other                                    0              20425          20425   \n",
       "Registration/plates                      0              14181          14181   \n",
       "Seat belt                                0              12774          12774   \n",
       "Speeding                                 0             182538         182538   \n",
       "\n",
       "                     driver_age_raw  driver_age  ...  search_conducted  \\\n",
       "violation                                        ...                     \n",
       "Equipment                     47211       47134  ...             47211   \n",
       "Moving violation              72317       72068  ...             72317   \n",
       "Other                         20425       19824  ...             20425   \n",
       "Registration/plates           14181       14161  ...             14181   \n",
       "Seat belt                     12774       12768  ...             12774   \n",
       "Speeding                     182538      182163  ...            182538   \n",
       "\n",
       "                     search_type_raw  search_type  contraband_found  \\\n",
       "violation                                                             \n",
       "Equipment                       3348         3348             47211   \n",
       "Moving violation                4278         4278             72317   \n",
       "Other                            942          942             20425   \n",
       "Registration/plates             1469         1469             14181   \n",
       "Seat belt                        405          405             12774   \n",
       "Speeding                        4861         4861            182538   \n",
       "\n",
       "                     stop_outcome  is_arrested  stop_duration  out_of_state  \\\n",
       "violation                                                                     \n",
       "Equipment                   47211        47211          47211         47137   \n",
       "Moving violation            72317        72317          72317         72132   \n",
       "Other                       20425        20425          20425         20308   \n",
       "Registration/plates         14181        14181          14181         14161   \n",
       "Seat belt                   12774        12774          12774         12755   \n",
       "Speeding                   182538       182538         182538        182325   \n",
       "\n",
       "                     drugs_related_stop  district  \n",
       "violation                                          \n",
       "Equipment                         47211     47211  \n",
       "Moving violation                  72317     72317  \n",
       "Other                             20425     20425  \n",
       "Registration/plates               14181     14181  \n",
       "Seat belt                         12774     12774  \n",
       "Speeding                         182538    182538  \n",
       "\n",
       "[6 rows x 23 columns]"
      ],
      "text/html": "<div>\n<style scoped>\n    .dataframe tbody tr th:only-of-type {\n        vertical-align: middle;\n    }\n\n    .dataframe tbody tr th {\n        vertical-align: top;\n    }\n\n    .dataframe thead th {\n        text-align: right;\n    }\n</style>\n<table border=\"1\" class=\"dataframe\">\n  <thead>\n    <tr style=\"text-align: right;\">\n      <th></th>\n      <th>id</th>\n      <th>stop_date</th>\n      <th>stop_time</th>\n      <th>location_raw</th>\n      <th>county_fips</th>\n      <th>fine_grained_location</th>\n      <th>police_department</th>\n      <th>driver_gender</th>\n      <th>driver_age_raw</th>\n      <th>driver_age</th>\n      <th>...</th>\n      <th>search_conducted</th>\n      <th>search_type_raw</th>\n      <th>search_type</th>\n      <th>contraband_found</th>\n      <th>stop_outcome</th>\n      <th>is_arrested</th>\n      <th>stop_duration</th>\n      <th>out_of_state</th>\n      <th>drugs_related_stop</th>\n      <th>district</th>\n    </tr>\n    <tr>\n      <th>violation</th>\n      <th></th>\n      <th></th>\n      <th></th>\n      <th></th>\n      <th></th>\n      <th></th>\n      <th></th>\n      <th></th>\n      <th></th>\n      <th></th>\n      <th></th>\n      <th></th>\n      <th></th>\n      <th></th>\n      <th></th>\n      <th></th>\n      <th></th>\n      <th></th>\n      <th></th>\n      <th></th>\n      <th></th>\n    </tr>\n  </thead>\n  <tbody>\n    <tr>\n      <th>Equipment</th>\n      <td>47211</td>\n      <td>47211</td>\n      <td>47211</td>\n      <td>47211</td>\n      <td>0</td>\n      <td>0</td>\n      <td>47211</td>\n      <td>47211</td>\n      <td>47211</td>\n      <td>47134</td>\n      <td>...</td>\n      <td>47211</td>\n      <td>3348</td>\n      <td>3348</td>\n      <td>47211</td>\n      <td>47211</td>\n      <td>47211</td>\n      <td>47211</td>\n      <td>47137</td>\n      <td>47211</td>\n      <td>47211</td>\n    </tr>\n    <tr>\n      <th>Moving violation</th>\n      <td>72317</td>\n      <td>72317</td>\n      <td>72317</td>\n      <td>72317</td>\n      <td>0</td>\n      <td>0</td>\n      <td>72317</td>\n      <td>72317</td>\n      <td>72317</td>\n      <td>72068</td>\n      <td>...</td>\n      <td>72317</td>\n      <td>4278</td>\n      <td>4278</td>\n      <td>72317</td>\n      <td>72317</td>\n      <td>72317</td>\n      <td>72317</td>\n      <td>72132</td>\n      <td>72317</td>\n      <td>72317</td>\n    </tr>\n    <tr>\n      <th>Other</th>\n      <td>20425</td>\n      <td>20425</td>\n      <td>20425</td>\n      <td>20425</td>\n      <td>0</td>\n      <td>0</td>\n      <td>20425</td>\n      <td>20425</td>\n      <td>20425</td>\n      <td>19824</td>\n      <td>...</td>\n      <td>20425</td>\n      <td>942</td>\n      <td>942</td>\n      <td>20425</td>\n      <td>20425</td>\n      <td>20425</td>\n      <td>20425</td>\n      <td>20308</td>\n      <td>20425</td>\n      <td>20425</td>\n    </tr>\n    <tr>\n      <th>Registration/plates</th>\n      <td>14181</td>\n      <td>14181</td>\n      <td>14181</td>\n      <td>14181</td>\n      <td>0</td>\n      <td>0</td>\n      <td>14181</td>\n      <td>14181</td>\n      <td>14181</td>\n      <td>14161</td>\n      <td>...</td>\n      <td>14181</td>\n      <td>1469</td>\n      <td>1469</td>\n      <td>14181</td>\n      <td>14181</td>\n      <td>14181</td>\n      <td>14181</td>\n      <td>14161</td>\n      <td>14181</td>\n      <td>14181</td>\n    </tr>\n    <tr>\n      <th>Seat belt</th>\n      <td>12774</td>\n      <td>12774</td>\n      <td>12774</td>\n      <td>12774</td>\n      <td>0</td>\n      <td>0</td>\n      <td>12774</td>\n      <td>12774</td>\n      <td>12774</td>\n      <td>12768</td>\n      <td>...</td>\n      <td>12774</td>\n      <td>405</td>\n      <td>405</td>\n      <td>12774</td>\n      <td>12774</td>\n      <td>12774</td>\n      <td>12774</td>\n      <td>12755</td>\n      <td>12774</td>\n      <td>12774</td>\n    </tr>\n    <tr>\n      <th>Speeding</th>\n      <td>182538</td>\n      <td>182538</td>\n      <td>182538</td>\n      <td>182538</td>\n      <td>0</td>\n      <td>0</td>\n      <td>182538</td>\n      <td>182538</td>\n      <td>182538</td>\n      <td>182163</td>\n      <td>...</td>\n      <td>182538</td>\n      <td>4861</td>\n      <td>4861</td>\n      <td>182538</td>\n      <td>182538</td>\n      <td>182538</td>\n      <td>182538</td>\n      <td>182325</td>\n      <td>182538</td>\n      <td>182538</td>\n    </tr>\n  </tbody>\n</table>\n<p>6 rows × 23 columns</p>\n</div>"
     },
     "metadata": {},
     "execution_count": 21
    }
   ],
   "source": [
    "df_m.groupby(\"violation\").count()"
   ]
  },
  {
   "cell_type": "markdown",
   "metadata": {},
   "source": [
    "***"
   ]
  },
  {
   "cell_type": "markdown",
   "metadata": {},
   "source": [
    "## Comparing speeding outcomes by gender"
   ]
  },
  {
   "cell_type": "markdown",
   "metadata": {},
   "source": [
    "When a driver is pulled over for speeding, many people believe that gender has an impact on whether the driver will receive a ticket or a warning. Can you find evidence of this in the dataset?\n",
    "\n",
    "First, you'll create two ``DataFrames`` of drivers who were stopped for ``speeding``: one containing ***females*** and the other containing ***males***.\n",
    "\n",
    "Then, for each **gender**, you'll use the ``stop_outcome`` column to calculate what percentage of stops resulted in a ``\"Citation\"`` (meaning a ticket) versus a ``\"Warning\"``."
   ]
  },
  {
   "cell_type": "markdown",
   "metadata": {},
   "source": [
    "**INSTRUCTIONS**\n",
    "\n",
    "*   Create a ``DataFrame``, ``female_and_speeding``, that only includes female drivers who were stopped for speeding.\n",
    "*   Create a ``DataFrame``, ``male_and_speeding``, that only includes male drivers who were stopped for speeding.\n",
    "*   Count the **stop outcomes** for the female drivers and express them as proportions.\n",
    "*   Count the **stop outcomes** for the male drivers and express them as proportions."
   ]
  },
  {
   "cell_type": "code",
   "execution_count": 22,
   "metadata": {},
   "outputs": [
    {
     "output_type": "execute_result",
     "data": {
      "text/plain": [
       "                                id   stop_date stop_time location_raw  \\\n",
       "stop_datetime                                                           \n",
       "2005-02-24 01:20:00  RI-2005-00016  2005-02-24     01:20      Zone X3   \n",
       "2005-03-14 10:00:00  RI-2005-00019  2005-03-14     10:00      Zone K3   \n",
       "2005-03-29 23:20:00  RI-2005-00026  2005-03-29     23:20      Zone K3   \n",
       "2005-06-06 13:20:00  RI-2005-00035  2005-06-06     13:20      Zone X4   \n",
       "2005-07-06 11:22:00  RI-2005-00038  2005-07-06     11:22      Zone X1   \n",
       "...                            ...         ...       ...          ...   \n",
       "2015-12-31 19:44:00  RI-2015-47028  2015-12-31     19:44      Zone K2   \n",
       "2015-12-31 20:05:00  RI-2015-47031  2015-12-31     20:05      Zone K2   \n",
       "2015-12-31 20:42:00  RI-2015-47041  2015-12-31     20:42      Zone K2   \n",
       "2015-12-31 21:47:00  RI-2015-47050  2015-12-31     21:47      Zone K3   \n",
       "2015-12-31 21:59:00  RI-2015-47051  2015-12-31     21:59      Zone K3   \n",
       "\n",
       "                     county_fips  fine_grained_location police_department  \\\n",
       "stop_datetime                                                               \n",
       "2005-02-24 01:20:00          NaN                    NaN               200   \n",
       "2005-03-14 10:00:00          NaN                    NaN               300   \n",
       "2005-03-29 23:20:00          NaN                    NaN               300   \n",
       "2005-06-06 13:20:00          NaN                    NaN               500   \n",
       "2005-07-06 11:22:00          NaN                    NaN                 0   \n",
       "...                          ...                    ...               ...   \n",
       "2015-12-31 19:44:00          NaN                    NaN             500.0   \n",
       "2015-12-31 20:05:00          NaN                    NaN             900.0   \n",
       "2015-12-31 20:42:00          NaN                    NaN             900.0   \n",
       "2015-12-31 21:47:00          NaN                    NaN             300.0   \n",
       "2015-12-31 21:59:00          NaN                    NaN             300.0   \n",
       "\n",
       "                    driver_gender  driver_age_raw  driver_age  ...  \\\n",
       "stop_datetime                                                  ...   \n",
       "2005-02-24 01:20:00             F          1983.0        22.0  ...   \n",
       "2005-03-14 10:00:00             F          1984.0        21.0  ...   \n",
       "2005-03-29 23:20:00             F          1971.0        34.0  ...   \n",
       "2005-06-06 13:20:00             F          1986.0        19.0  ...   \n",
       "2005-07-06 11:22:00             F          1973.0        32.0  ...   \n",
       "...                           ...             ...         ...  ...   \n",
       "2015-12-31 19:44:00             F          1969.0        46.0  ...   \n",
       "2015-12-31 20:05:00             F          1996.0        19.0  ...   \n",
       "2015-12-31 20:42:00             F          1978.0        37.0  ...   \n",
       "2015-12-31 21:47:00             F          1996.0        19.0  ...   \n",
       "2015-12-31 21:59:00             F          1994.0        21.0  ...   \n",
       "\n",
       "                    search_conducted search_type_raw search_type  \\\n",
       "stop_datetime                                                      \n",
       "2005-02-24 01:20:00            False             NaN         NaN   \n",
       "2005-03-14 10:00:00            False             NaN         NaN   \n",
       "2005-03-29 23:20:00            False             NaN         NaN   \n",
       "2005-06-06 13:20:00            False             NaN         NaN   \n",
       "2005-07-06 11:22:00            False             NaN         NaN   \n",
       "...                              ...             ...         ...   \n",
       "2015-12-31 19:44:00            False             NaN         NaN   \n",
       "2015-12-31 20:05:00            False             NaN         NaN   \n",
       "2015-12-31 20:42:00            False             NaN         NaN   \n",
       "2015-12-31 21:47:00            False             NaN         NaN   \n",
       "2015-12-31 21:59:00            False             NaN         NaN   \n",
       "\n",
       "                    contraband_found stop_outcome is_arrested stop_duration  \\\n",
       "stop_datetime                                                                 \n",
       "2005-02-24 01:20:00            False     Citation       False      0-15 Min   \n",
       "2005-03-14 10:00:00            False     Citation       False      0-15 Min   \n",
       "2005-03-29 23:20:00            False     Citation       False      0-15 Min   \n",
       "2005-06-06 13:20:00            False     Citation       False      0-15 Min   \n",
       "2005-07-06 11:22:00            False     Citation       False      0-15 Min   \n",
       "...                              ...          ...         ...           ...   \n",
       "2015-12-31 19:44:00            False      Warning       False      0-15 Min   \n",
       "2015-12-31 20:05:00            False     Citation       False      0-15 Min   \n",
       "2015-12-31 20:42:00            False     Citation       False      0-15 Min   \n",
       "2015-12-31 21:47:00            False     Citation       False      0-15 Min   \n",
       "2015-12-31 21:59:00            False     Citation       False      0-15 Min   \n",
       "\n",
       "                     out_of_state drugs_related_stop  district  \n",
       "stop_datetime                                                   \n",
       "2005-02-24 01:20:00          True              False   Zone X3  \n",
       "2005-03-14 10:00:00         False              False   Zone K3  \n",
       "2005-03-29 23:20:00          True              False   Zone K3  \n",
       "2005-06-06 13:20:00         False              False   Zone X4  \n",
       "2005-07-06 11:22:00         False              False   Zone X1  \n",
       "...                           ...                ...       ...  \n",
       "2015-12-31 19:44:00         False              False   Zone K2  \n",
       "2015-12-31 20:05:00         False              False   Zone K2  \n",
       "2015-12-31 20:42:00          True              False   Zone K2  \n",
       "2015-12-31 21:47:00          True              False   Zone K3  \n",
       "2015-12-31 21:59:00         False              False   Zone K3  \n",
       "\n",
       "[86198 rows x 24 columns]"
      ],
      "text/html": "<div>\n<style scoped>\n    .dataframe tbody tr th:only-of-type {\n        vertical-align: middle;\n    }\n\n    .dataframe tbody tr th {\n        vertical-align: top;\n    }\n\n    .dataframe thead th {\n        text-align: right;\n    }\n</style>\n<table border=\"1\" class=\"dataframe\">\n  <thead>\n    <tr style=\"text-align: right;\">\n      <th></th>\n      <th>id</th>\n      <th>stop_date</th>\n      <th>stop_time</th>\n      <th>location_raw</th>\n      <th>county_fips</th>\n      <th>fine_grained_location</th>\n      <th>police_department</th>\n      <th>driver_gender</th>\n      <th>driver_age_raw</th>\n      <th>driver_age</th>\n      <th>...</th>\n      <th>search_conducted</th>\n      <th>search_type_raw</th>\n      <th>search_type</th>\n      <th>contraband_found</th>\n      <th>stop_outcome</th>\n      <th>is_arrested</th>\n      <th>stop_duration</th>\n      <th>out_of_state</th>\n      <th>drugs_related_stop</th>\n      <th>district</th>\n    </tr>\n    <tr>\n      <th>stop_datetime</th>\n      <th></th>\n      <th></th>\n      <th></th>\n      <th></th>\n      <th></th>\n      <th></th>\n      <th></th>\n      <th></th>\n      <th></th>\n      <th></th>\n      <th></th>\n      <th></th>\n      <th></th>\n      <th></th>\n      <th></th>\n      <th></th>\n      <th></th>\n      <th></th>\n      <th></th>\n      <th></th>\n      <th></th>\n    </tr>\n  </thead>\n  <tbody>\n    <tr>\n      <th>2005-02-24 01:20:00</th>\n      <td>RI-2005-00016</td>\n      <td>2005-02-24</td>\n      <td>01:20</td>\n      <td>Zone X3</td>\n      <td>NaN</td>\n      <td>NaN</td>\n      <td>200</td>\n      <td>F</td>\n      <td>1983.0</td>\n      <td>22.0</td>\n      <td>...</td>\n      <td>False</td>\n      <td>NaN</td>\n      <td>NaN</td>\n      <td>False</td>\n      <td>Citation</td>\n      <td>False</td>\n      <td>0-15 Min</td>\n      <td>True</td>\n      <td>False</td>\n      <td>Zone X3</td>\n    </tr>\n    <tr>\n      <th>2005-03-14 10:00:00</th>\n      <td>RI-2005-00019</td>\n      <td>2005-03-14</td>\n      <td>10:00</td>\n      <td>Zone K3</td>\n      <td>NaN</td>\n      <td>NaN</td>\n      <td>300</td>\n      <td>F</td>\n      <td>1984.0</td>\n      <td>21.0</td>\n      <td>...</td>\n      <td>False</td>\n      <td>NaN</td>\n      <td>NaN</td>\n      <td>False</td>\n      <td>Citation</td>\n      <td>False</td>\n      <td>0-15 Min</td>\n      <td>False</td>\n      <td>False</td>\n      <td>Zone K3</td>\n    </tr>\n    <tr>\n      <th>2005-03-29 23:20:00</th>\n      <td>RI-2005-00026</td>\n      <td>2005-03-29</td>\n      <td>23:20</td>\n      <td>Zone K3</td>\n      <td>NaN</td>\n      <td>NaN</td>\n      <td>300</td>\n      <td>F</td>\n      <td>1971.0</td>\n      <td>34.0</td>\n      <td>...</td>\n      <td>False</td>\n      <td>NaN</td>\n      <td>NaN</td>\n      <td>False</td>\n      <td>Citation</td>\n      <td>False</td>\n      <td>0-15 Min</td>\n      <td>True</td>\n      <td>False</td>\n      <td>Zone K3</td>\n    </tr>\n    <tr>\n      <th>2005-06-06 13:20:00</th>\n      <td>RI-2005-00035</td>\n      <td>2005-06-06</td>\n      <td>13:20</td>\n      <td>Zone X4</td>\n      <td>NaN</td>\n      <td>NaN</td>\n      <td>500</td>\n      <td>F</td>\n      <td>1986.0</td>\n      <td>19.0</td>\n      <td>...</td>\n      <td>False</td>\n      <td>NaN</td>\n      <td>NaN</td>\n      <td>False</td>\n      <td>Citation</td>\n      <td>False</td>\n      <td>0-15 Min</td>\n      <td>False</td>\n      <td>False</td>\n      <td>Zone X4</td>\n    </tr>\n    <tr>\n      <th>2005-07-06 11:22:00</th>\n      <td>RI-2005-00038</td>\n      <td>2005-07-06</td>\n      <td>11:22</td>\n      <td>Zone X1</td>\n      <td>NaN</td>\n      <td>NaN</td>\n      <td>0</td>\n      <td>F</td>\n      <td>1973.0</td>\n      <td>32.0</td>\n      <td>...</td>\n      <td>False</td>\n      <td>NaN</td>\n      <td>NaN</td>\n      <td>False</td>\n      <td>Citation</td>\n      <td>False</td>\n      <td>0-15 Min</td>\n      <td>False</td>\n      <td>False</td>\n      <td>Zone X1</td>\n    </tr>\n    <tr>\n      <th>...</th>\n      <td>...</td>\n      <td>...</td>\n      <td>...</td>\n      <td>...</td>\n      <td>...</td>\n      <td>...</td>\n      <td>...</td>\n      <td>...</td>\n      <td>...</td>\n      <td>...</td>\n      <td>...</td>\n      <td>...</td>\n      <td>...</td>\n      <td>...</td>\n      <td>...</td>\n      <td>...</td>\n      <td>...</td>\n      <td>...</td>\n      <td>...</td>\n      <td>...</td>\n      <td>...</td>\n    </tr>\n    <tr>\n      <th>2015-12-31 19:44:00</th>\n      <td>RI-2015-47028</td>\n      <td>2015-12-31</td>\n      <td>19:44</td>\n      <td>Zone K2</td>\n      <td>NaN</td>\n      <td>NaN</td>\n      <td>500.0</td>\n      <td>F</td>\n      <td>1969.0</td>\n      <td>46.0</td>\n      <td>...</td>\n      <td>False</td>\n      <td>NaN</td>\n      <td>NaN</td>\n      <td>False</td>\n      <td>Warning</td>\n      <td>False</td>\n      <td>0-15 Min</td>\n      <td>False</td>\n      <td>False</td>\n      <td>Zone K2</td>\n    </tr>\n    <tr>\n      <th>2015-12-31 20:05:00</th>\n      <td>RI-2015-47031</td>\n      <td>2015-12-31</td>\n      <td>20:05</td>\n      <td>Zone K2</td>\n      <td>NaN</td>\n      <td>NaN</td>\n      <td>900.0</td>\n      <td>F</td>\n      <td>1996.0</td>\n      <td>19.0</td>\n      <td>...</td>\n      <td>False</td>\n      <td>NaN</td>\n      <td>NaN</td>\n      <td>False</td>\n      <td>Citation</td>\n      <td>False</td>\n      <td>0-15 Min</td>\n      <td>False</td>\n      <td>False</td>\n      <td>Zone K2</td>\n    </tr>\n    <tr>\n      <th>2015-12-31 20:42:00</th>\n      <td>RI-2015-47041</td>\n      <td>2015-12-31</td>\n      <td>20:42</td>\n      <td>Zone K2</td>\n      <td>NaN</td>\n      <td>NaN</td>\n      <td>900.0</td>\n      <td>F</td>\n      <td>1978.0</td>\n      <td>37.0</td>\n      <td>...</td>\n      <td>False</td>\n      <td>NaN</td>\n      <td>NaN</td>\n      <td>False</td>\n      <td>Citation</td>\n      <td>False</td>\n      <td>0-15 Min</td>\n      <td>True</td>\n      <td>False</td>\n      <td>Zone K2</td>\n    </tr>\n    <tr>\n      <th>2015-12-31 21:47:00</th>\n      <td>RI-2015-47050</td>\n      <td>2015-12-31</td>\n      <td>21:47</td>\n      <td>Zone K3</td>\n      <td>NaN</td>\n      <td>NaN</td>\n      <td>300.0</td>\n      <td>F</td>\n      <td>1996.0</td>\n      <td>19.0</td>\n      <td>...</td>\n      <td>False</td>\n      <td>NaN</td>\n      <td>NaN</td>\n      <td>False</td>\n      <td>Citation</td>\n      <td>False</td>\n      <td>0-15 Min</td>\n      <td>True</td>\n      <td>False</td>\n      <td>Zone K3</td>\n    </tr>\n    <tr>\n      <th>2015-12-31 21:59:00</th>\n      <td>RI-2015-47051</td>\n      <td>2015-12-31</td>\n      <td>21:59</td>\n      <td>Zone K3</td>\n      <td>NaN</td>\n      <td>NaN</td>\n      <td>300.0</td>\n      <td>F</td>\n      <td>1994.0</td>\n      <td>21.0</td>\n      <td>...</td>\n      <td>False</td>\n      <td>NaN</td>\n      <td>NaN</td>\n      <td>False</td>\n      <td>Citation</td>\n      <td>False</td>\n      <td>0-15 Min</td>\n      <td>False</td>\n      <td>False</td>\n      <td>Zone K3</td>\n    </tr>\n  </tbody>\n</table>\n<p>86198 rows × 24 columns</p>\n</div>"
     },
     "metadata": {},
     "execution_count": 22
    }
   ],
   "source": [
    "female_and_speeding = df_f[df_f[\"violation\"] == \"Speeding\"]\n",
    "female_and_speeding"
   ]
  },
  {
   "cell_type": "code",
   "execution_count": 23,
   "metadata": {},
   "outputs": [
    {
     "output_type": "execute_result",
     "data": {
      "text/plain": [
       "                                id   stop_date stop_time location_raw  \\\n",
       "stop_datetime                                                           \n",
       "2005-01-02 01:55:00  RI-2005-00001  2005-01-02     01:55      Zone K1   \n",
       "2005-01-02 20:30:00  RI-2005-00002  2005-01-02     20:30      Zone X4   \n",
       "2005-01-18 08:15:00  RI-2005-00007  2005-01-18     08:15      Zone K3   \n",
       "2005-01-23 23:15:00  RI-2005-00009  2005-01-23     23:15      Zone K3   \n",
       "2005-01-24 20:32:00  RI-2005-00010  2005-01-24     20:32      Zone K1   \n",
       "...                            ...         ...       ...          ...   \n",
       "2015-12-31 20:50:00  RI-2015-47044  2015-12-31     20:50      Zone K2   \n",
       "2015-12-31 21:42:00  RI-2015-47049  2015-12-31     21:42      Zone X1   \n",
       "2015-12-31 22:26:00  RI-2015-47058  2015-12-31     22:26      Zone K3   \n",
       "2015-12-31 22:46:00  RI-2015-47061  2015-12-31     22:46      Zone X1   \n",
       "2015-12-31 23:44:00  RI-2015-47064  2015-12-31     23:44      Zone K2   \n",
       "\n",
       "                     county_fips  fine_grained_location police_department  \\\n",
       "stop_datetime                                                               \n",
       "2005-01-02 01:55:00          NaN                    NaN               600   \n",
       "2005-01-02 20:30:00          NaN                    NaN               500   \n",
       "2005-01-18 08:15:00          NaN                    NaN               300   \n",
       "2005-01-23 23:15:00          NaN                    NaN               300   \n",
       "2005-01-24 20:32:00          NaN                    NaN               600   \n",
       "...                          ...                    ...               ...   \n",
       "2015-12-31 20:50:00          NaN                    NaN             500.0   \n",
       "2015-12-31 21:42:00          NaN                    NaN               0.0   \n",
       "2015-12-31 22:26:00          NaN                    NaN             300.0   \n",
       "2015-12-31 22:46:00          NaN                    NaN               0.0   \n",
       "2015-12-31 23:44:00          NaN                    NaN             900.0   \n",
       "\n",
       "                    driver_gender  driver_age_raw  driver_age  ...  \\\n",
       "stop_datetime                                                  ...   \n",
       "2005-01-02 01:55:00             M          1985.0        20.0  ...   \n",
       "2005-01-02 20:30:00             M          1987.0        18.0  ...   \n",
       "2005-01-18 08:15:00             M          1965.0        40.0  ...   \n",
       "2005-01-23 23:15:00             M          1972.0        33.0  ...   \n",
       "2005-01-24 20:32:00             M          1987.0        18.0  ...   \n",
       "...                           ...             ...         ...  ...   \n",
       "2015-12-31 20:50:00             M          1994.0        21.0  ...   \n",
       "2015-12-31 21:42:00             M          1993.0        22.0  ...   \n",
       "2015-12-31 22:26:00             M          1964.0        51.0  ...   \n",
       "2015-12-31 22:46:00             M          1959.0        56.0  ...   \n",
       "2015-12-31 23:44:00             M          1984.0        31.0  ...   \n",
       "\n",
       "                    search_conducted search_type_raw     search_type  \\\n",
       "stop_datetime                                                          \n",
       "2005-01-02 01:55:00            False             NaN             NaN   \n",
       "2005-01-02 20:30:00            False             NaN             NaN   \n",
       "2005-01-18 08:15:00            False             NaN             NaN   \n",
       "2005-01-23 23:15:00            False             NaN             NaN   \n",
       "2005-01-24 20:32:00             True  Probable Cause  Probable Cause   \n",
       "...                              ...             ...             ...   \n",
       "2015-12-31 20:50:00            False             NaN             NaN   \n",
       "2015-12-31 21:42:00            False             NaN             NaN   \n",
       "2015-12-31 22:26:00            False             NaN             NaN   \n",
       "2015-12-31 22:46:00            False             NaN             NaN   \n",
       "2015-12-31 23:44:00            False             NaN             NaN   \n",
       "\n",
       "                    contraband_found stop_outcome is_arrested stop_duration  \\\n",
       "stop_datetime                                                                 \n",
       "2005-01-02 01:55:00            False     Citation       False      0-15 Min   \n",
       "2005-01-02 20:30:00            False     Citation       False     16-30 Min   \n",
       "2005-01-18 08:15:00            False     Citation       False      0-15 Min   \n",
       "2005-01-23 23:15:00            False     Citation       False      0-15 Min   \n",
       "2005-01-24 20:32:00             True     Citation       False      0-15 Min   \n",
       "...                              ...          ...         ...           ...   \n",
       "2015-12-31 20:50:00            False     Citation       False      0-15 Min   \n",
       "2015-12-31 21:42:00            False     Citation       False      0-15 Min   \n",
       "2015-12-31 22:26:00            False     Citation       False      0-15 Min   \n",
       "2015-12-31 22:46:00            False     Citation       False      0-15 Min   \n",
       "2015-12-31 23:44:00            False     Citation       False      0-15 Min   \n",
       "\n",
       "                     out_of_state drugs_related_stop  district  \n",
       "stop_datetime                                                   \n",
       "2005-01-02 01:55:00         False              False   Zone K1  \n",
       "2005-01-02 20:30:00         False              False   Zone X4  \n",
       "2005-01-18 08:15:00          True              False   Zone K3  \n",
       "2005-01-23 23:15:00          True              False   Zone K3  \n",
       "2005-01-24 20:32:00          True               True   Zone K1  \n",
       "...                           ...                ...       ...  \n",
       "2015-12-31 20:50:00         False              False   Zone K2  \n",
       "2015-12-31 21:42:00          True              False   Zone X1  \n",
       "2015-12-31 22:26:00          True              False   Zone K3  \n",
       "2015-12-31 22:46:00          True              False   Zone X1  \n",
       "2015-12-31 23:44:00         False              False   Zone K2  \n",
       "\n",
       "[182538 rows x 24 columns]"
      ],
      "text/html": "<div>\n<style scoped>\n    .dataframe tbody tr th:only-of-type {\n        vertical-align: middle;\n    }\n\n    .dataframe tbody tr th {\n        vertical-align: top;\n    }\n\n    .dataframe thead th {\n        text-align: right;\n    }\n</style>\n<table border=\"1\" class=\"dataframe\">\n  <thead>\n    <tr style=\"text-align: right;\">\n      <th></th>\n      <th>id</th>\n      <th>stop_date</th>\n      <th>stop_time</th>\n      <th>location_raw</th>\n      <th>county_fips</th>\n      <th>fine_grained_location</th>\n      <th>police_department</th>\n      <th>driver_gender</th>\n      <th>driver_age_raw</th>\n      <th>driver_age</th>\n      <th>...</th>\n      <th>search_conducted</th>\n      <th>search_type_raw</th>\n      <th>search_type</th>\n      <th>contraband_found</th>\n      <th>stop_outcome</th>\n      <th>is_arrested</th>\n      <th>stop_duration</th>\n      <th>out_of_state</th>\n      <th>drugs_related_stop</th>\n      <th>district</th>\n    </tr>\n    <tr>\n      <th>stop_datetime</th>\n      <th></th>\n      <th></th>\n      <th></th>\n      <th></th>\n      <th></th>\n      <th></th>\n      <th></th>\n      <th></th>\n      <th></th>\n      <th></th>\n      <th></th>\n      <th></th>\n      <th></th>\n      <th></th>\n      <th></th>\n      <th></th>\n      <th></th>\n      <th></th>\n      <th></th>\n      <th></th>\n      <th></th>\n    </tr>\n  </thead>\n  <tbody>\n    <tr>\n      <th>2005-01-02 01:55:00</th>\n      <td>RI-2005-00001</td>\n      <td>2005-01-02</td>\n      <td>01:55</td>\n      <td>Zone K1</td>\n      <td>NaN</td>\n      <td>NaN</td>\n      <td>600</td>\n      <td>M</td>\n      <td>1985.0</td>\n      <td>20.0</td>\n      <td>...</td>\n      <td>False</td>\n      <td>NaN</td>\n      <td>NaN</td>\n      <td>False</td>\n      <td>Citation</td>\n      <td>False</td>\n      <td>0-15 Min</td>\n      <td>False</td>\n      <td>False</td>\n      <td>Zone K1</td>\n    </tr>\n    <tr>\n      <th>2005-01-02 20:30:00</th>\n      <td>RI-2005-00002</td>\n      <td>2005-01-02</td>\n      <td>20:30</td>\n      <td>Zone X4</td>\n      <td>NaN</td>\n      <td>NaN</td>\n      <td>500</td>\n      <td>M</td>\n      <td>1987.0</td>\n      <td>18.0</td>\n      <td>...</td>\n      <td>False</td>\n      <td>NaN</td>\n      <td>NaN</td>\n      <td>False</td>\n      <td>Citation</td>\n      <td>False</td>\n      <td>16-30 Min</td>\n      <td>False</td>\n      <td>False</td>\n      <td>Zone X4</td>\n    </tr>\n    <tr>\n      <th>2005-01-18 08:15:00</th>\n      <td>RI-2005-00007</td>\n      <td>2005-01-18</td>\n      <td>08:15</td>\n      <td>Zone K3</td>\n      <td>NaN</td>\n      <td>NaN</td>\n      <td>300</td>\n      <td>M</td>\n      <td>1965.0</td>\n      <td>40.0</td>\n      <td>...</td>\n      <td>False</td>\n      <td>NaN</td>\n      <td>NaN</td>\n      <td>False</td>\n      <td>Citation</td>\n      <td>False</td>\n      <td>0-15 Min</td>\n      <td>True</td>\n      <td>False</td>\n      <td>Zone K3</td>\n    </tr>\n    <tr>\n      <th>2005-01-23 23:15:00</th>\n      <td>RI-2005-00009</td>\n      <td>2005-01-23</td>\n      <td>23:15</td>\n      <td>Zone K3</td>\n      <td>NaN</td>\n      <td>NaN</td>\n      <td>300</td>\n      <td>M</td>\n      <td>1972.0</td>\n      <td>33.0</td>\n      <td>...</td>\n      <td>False</td>\n      <td>NaN</td>\n      <td>NaN</td>\n      <td>False</td>\n      <td>Citation</td>\n      <td>False</td>\n      <td>0-15 Min</td>\n      <td>True</td>\n      <td>False</td>\n      <td>Zone K3</td>\n    </tr>\n    <tr>\n      <th>2005-01-24 20:32:00</th>\n      <td>RI-2005-00010</td>\n      <td>2005-01-24</td>\n      <td>20:32</td>\n      <td>Zone K1</td>\n      <td>NaN</td>\n      <td>NaN</td>\n      <td>600</td>\n      <td>M</td>\n      <td>1987.0</td>\n      <td>18.0</td>\n      <td>...</td>\n      <td>True</td>\n      <td>Probable Cause</td>\n      <td>Probable Cause</td>\n      <td>True</td>\n      <td>Citation</td>\n      <td>False</td>\n      <td>0-15 Min</td>\n      <td>True</td>\n      <td>True</td>\n      <td>Zone K1</td>\n    </tr>\n    <tr>\n      <th>...</th>\n      <td>...</td>\n      <td>...</td>\n      <td>...</td>\n      <td>...</td>\n      <td>...</td>\n      <td>...</td>\n      <td>...</td>\n      <td>...</td>\n      <td>...</td>\n      <td>...</td>\n      <td>...</td>\n      <td>...</td>\n      <td>...</td>\n      <td>...</td>\n      <td>...</td>\n      <td>...</td>\n      <td>...</td>\n      <td>...</td>\n      <td>...</td>\n      <td>...</td>\n      <td>...</td>\n    </tr>\n    <tr>\n      <th>2015-12-31 20:50:00</th>\n      <td>RI-2015-47044</td>\n      <td>2015-12-31</td>\n      <td>20:50</td>\n      <td>Zone K2</td>\n      <td>NaN</td>\n      <td>NaN</td>\n      <td>500.0</td>\n      <td>M</td>\n      <td>1994.0</td>\n      <td>21.0</td>\n      <td>...</td>\n      <td>False</td>\n      <td>NaN</td>\n      <td>NaN</td>\n      <td>False</td>\n      <td>Citation</td>\n      <td>False</td>\n      <td>0-15 Min</td>\n      <td>False</td>\n      <td>False</td>\n      <td>Zone K2</td>\n    </tr>\n    <tr>\n      <th>2015-12-31 21:42:00</th>\n      <td>RI-2015-47049</td>\n      <td>2015-12-31</td>\n      <td>21:42</td>\n      <td>Zone X1</td>\n      <td>NaN</td>\n      <td>NaN</td>\n      <td>0.0</td>\n      <td>M</td>\n      <td>1993.0</td>\n      <td>22.0</td>\n      <td>...</td>\n      <td>False</td>\n      <td>NaN</td>\n      <td>NaN</td>\n      <td>False</td>\n      <td>Citation</td>\n      <td>False</td>\n      <td>0-15 Min</td>\n      <td>True</td>\n      <td>False</td>\n      <td>Zone X1</td>\n    </tr>\n    <tr>\n      <th>2015-12-31 22:26:00</th>\n      <td>RI-2015-47058</td>\n      <td>2015-12-31</td>\n      <td>22:26</td>\n      <td>Zone K3</td>\n      <td>NaN</td>\n      <td>NaN</td>\n      <td>300.0</td>\n      <td>M</td>\n      <td>1964.0</td>\n      <td>51.0</td>\n      <td>...</td>\n      <td>False</td>\n      <td>NaN</td>\n      <td>NaN</td>\n      <td>False</td>\n      <td>Citation</td>\n      <td>False</td>\n      <td>0-15 Min</td>\n      <td>True</td>\n      <td>False</td>\n      <td>Zone K3</td>\n    </tr>\n    <tr>\n      <th>2015-12-31 22:46:00</th>\n      <td>RI-2015-47061</td>\n      <td>2015-12-31</td>\n      <td>22:46</td>\n      <td>Zone X1</td>\n      <td>NaN</td>\n      <td>NaN</td>\n      <td>0.0</td>\n      <td>M</td>\n      <td>1959.0</td>\n      <td>56.0</td>\n      <td>...</td>\n      <td>False</td>\n      <td>NaN</td>\n      <td>NaN</td>\n      <td>False</td>\n      <td>Citation</td>\n      <td>False</td>\n      <td>0-15 Min</td>\n      <td>True</td>\n      <td>False</td>\n      <td>Zone X1</td>\n    </tr>\n    <tr>\n      <th>2015-12-31 23:44:00</th>\n      <td>RI-2015-47064</td>\n      <td>2015-12-31</td>\n      <td>23:44</td>\n      <td>Zone K2</td>\n      <td>NaN</td>\n      <td>NaN</td>\n      <td>900.0</td>\n      <td>M</td>\n      <td>1984.0</td>\n      <td>31.0</td>\n      <td>...</td>\n      <td>False</td>\n      <td>NaN</td>\n      <td>NaN</td>\n      <td>False</td>\n      <td>Citation</td>\n      <td>False</td>\n      <td>0-15 Min</td>\n      <td>False</td>\n      <td>False</td>\n      <td>Zone K2</td>\n    </tr>\n  </tbody>\n</table>\n<p>182538 rows × 24 columns</p>\n</div>"
     },
     "metadata": {},
     "execution_count": 23
    }
   ],
   "source": [
    "male_and_speeding = df_m[df_m[\"violation\"] == \"Speeding\"]\n",
    "male_and_speeding"
   ]
  },
  {
   "cell_type": "code",
   "execution_count": 24,
   "metadata": {},
   "outputs": [
    {
     "output_type": "execute_result",
     "data": {
      "text/plain": [
       "86198"
      ]
     },
     "metadata": {},
     "execution_count": 24
    }
   ],
   "source": [
    "female_and_speeding[\"stop_outcome\"].count()"
   ]
  },
  {
   "cell_type": "code",
   "execution_count": 25,
   "metadata": {},
   "outputs": [
    {
     "output_type": "execute_result",
     "data": {
      "text/plain": [
       "                     id  stop_date  stop_time  location_raw  county_fips  \\\n",
       "stop_outcome                                                               \n",
       "Arrest Driver       456        456        456           456            0   \n",
       "Arrest Passenger     89         89         89            89            0   \n",
       "Citation          82168      82168      82168         82168            0   \n",
       "N/D                  78         78         78            78            0   \n",
       "No Action            45         45         45            45            0   \n",
       "Warning            3362       3362       3362          3362            0   \n",
       "\n",
       "                  fine_grained_location  police_department  driver_gender  \\\n",
       "stop_outcome                                                                \n",
       "Arrest Driver                         0                456            456   \n",
       "Arrest Passenger                      0                 89             89   \n",
       "Citation                              0              82168          82168   \n",
       "N/D                                   0                 78             78   \n",
       "No Action                             0                 45             45   \n",
       "Warning                               0               3362           3362   \n",
       "\n",
       "                  driver_age_raw  driver_age  ...  violation  \\\n",
       "stop_outcome                                  ...              \n",
       "Arrest Driver                456         456  ...        456   \n",
       "Arrest Passenger              89          89  ...         89   \n",
       "Citation                   82168       82075  ...      82168   \n",
       "N/D                           78          77  ...         78   \n",
       "No Action                     45          45  ...         45   \n",
       "Warning                     3362        3286  ...       3362   \n",
       "\n",
       "                  search_conducted  search_type_raw  search_type  \\\n",
       "stop_outcome                                                       \n",
       "Arrest Driver                  456              150          150   \n",
       "Arrest Passenger                89               39           39   \n",
       "Citation                     82168              465          465   \n",
       "N/D                             78                1            1   \n",
       "No Action                       45                2            2   \n",
       "Warning                       3362               10           10   \n",
       "\n",
       "                  contraband_found  is_arrested  stop_duration  out_of_state  \\\n",
       "stop_outcome                                                                   \n",
       "Arrest Driver                  456          456            456           455   \n",
       "Arrest Passenger                89           89             89            89   \n",
       "Citation                     82168        82168          82168         82107   \n",
       "N/D                             78           78             78            78   \n",
       "No Action                       45           45             45            45   \n",
       "Warning                       3362         3362           3362          3324   \n",
       "\n",
       "                  drugs_related_stop  district  \n",
       "stop_outcome                                    \n",
       "Arrest Driver                    456       456  \n",
       "Arrest Passenger                  89        89  \n",
       "Citation                       82168     82168  \n",
       "N/D                               78        78  \n",
       "No Action                         45        45  \n",
       "Warning                         3362      3362  \n",
       "\n",
       "[6 rows x 23 columns]"
      ],
      "text/html": "<div>\n<style scoped>\n    .dataframe tbody tr th:only-of-type {\n        vertical-align: middle;\n    }\n\n    .dataframe tbody tr th {\n        vertical-align: top;\n    }\n\n    .dataframe thead th {\n        text-align: right;\n    }\n</style>\n<table border=\"1\" class=\"dataframe\">\n  <thead>\n    <tr style=\"text-align: right;\">\n      <th></th>\n      <th>id</th>\n      <th>stop_date</th>\n      <th>stop_time</th>\n      <th>location_raw</th>\n      <th>county_fips</th>\n      <th>fine_grained_location</th>\n      <th>police_department</th>\n      <th>driver_gender</th>\n      <th>driver_age_raw</th>\n      <th>driver_age</th>\n      <th>...</th>\n      <th>violation</th>\n      <th>search_conducted</th>\n      <th>search_type_raw</th>\n      <th>search_type</th>\n      <th>contraband_found</th>\n      <th>is_arrested</th>\n      <th>stop_duration</th>\n      <th>out_of_state</th>\n      <th>drugs_related_stop</th>\n      <th>district</th>\n    </tr>\n    <tr>\n      <th>stop_outcome</th>\n      <th></th>\n      <th></th>\n      <th></th>\n      <th></th>\n      <th></th>\n      <th></th>\n      <th></th>\n      <th></th>\n      <th></th>\n      <th></th>\n      <th></th>\n      <th></th>\n      <th></th>\n      <th></th>\n      <th></th>\n      <th></th>\n      <th></th>\n      <th></th>\n      <th></th>\n      <th></th>\n      <th></th>\n    </tr>\n  </thead>\n  <tbody>\n    <tr>\n      <th>Arrest Driver</th>\n      <td>456</td>\n      <td>456</td>\n      <td>456</td>\n      <td>456</td>\n      <td>0</td>\n      <td>0</td>\n      <td>456</td>\n      <td>456</td>\n      <td>456</td>\n      <td>456</td>\n      <td>...</td>\n      <td>456</td>\n      <td>456</td>\n      <td>150</td>\n      <td>150</td>\n      <td>456</td>\n      <td>456</td>\n      <td>456</td>\n      <td>455</td>\n      <td>456</td>\n      <td>456</td>\n    </tr>\n    <tr>\n      <th>Arrest Passenger</th>\n      <td>89</td>\n      <td>89</td>\n      <td>89</td>\n      <td>89</td>\n      <td>0</td>\n      <td>0</td>\n      <td>89</td>\n      <td>89</td>\n      <td>89</td>\n      <td>89</td>\n      <td>...</td>\n      <td>89</td>\n      <td>89</td>\n      <td>39</td>\n      <td>39</td>\n      <td>89</td>\n      <td>89</td>\n      <td>89</td>\n      <td>89</td>\n      <td>89</td>\n      <td>89</td>\n    </tr>\n    <tr>\n      <th>Citation</th>\n      <td>82168</td>\n      <td>82168</td>\n      <td>82168</td>\n      <td>82168</td>\n      <td>0</td>\n      <td>0</td>\n      <td>82168</td>\n      <td>82168</td>\n      <td>82168</td>\n      <td>82075</td>\n      <td>...</td>\n      <td>82168</td>\n      <td>82168</td>\n      <td>465</td>\n      <td>465</td>\n      <td>82168</td>\n      <td>82168</td>\n      <td>82168</td>\n      <td>82107</td>\n      <td>82168</td>\n      <td>82168</td>\n    </tr>\n    <tr>\n      <th>N/D</th>\n      <td>78</td>\n      <td>78</td>\n      <td>78</td>\n      <td>78</td>\n      <td>0</td>\n      <td>0</td>\n      <td>78</td>\n      <td>78</td>\n      <td>78</td>\n      <td>77</td>\n      <td>...</td>\n      <td>78</td>\n      <td>78</td>\n      <td>1</td>\n      <td>1</td>\n      <td>78</td>\n      <td>78</td>\n      <td>78</td>\n      <td>78</td>\n      <td>78</td>\n      <td>78</td>\n    </tr>\n    <tr>\n      <th>No Action</th>\n      <td>45</td>\n      <td>45</td>\n      <td>45</td>\n      <td>45</td>\n      <td>0</td>\n      <td>0</td>\n      <td>45</td>\n      <td>45</td>\n      <td>45</td>\n      <td>45</td>\n      <td>...</td>\n      <td>45</td>\n      <td>45</td>\n      <td>2</td>\n      <td>2</td>\n      <td>45</td>\n      <td>45</td>\n      <td>45</td>\n      <td>45</td>\n      <td>45</td>\n      <td>45</td>\n    </tr>\n    <tr>\n      <th>Warning</th>\n      <td>3362</td>\n      <td>3362</td>\n      <td>3362</td>\n      <td>3362</td>\n      <td>0</td>\n      <td>0</td>\n      <td>3362</td>\n      <td>3362</td>\n      <td>3362</td>\n      <td>3286</td>\n      <td>...</td>\n      <td>3362</td>\n      <td>3362</td>\n      <td>10</td>\n      <td>10</td>\n      <td>3362</td>\n      <td>3362</td>\n      <td>3362</td>\n      <td>3324</td>\n      <td>3362</td>\n      <td>3362</td>\n    </tr>\n  </tbody>\n</table>\n<p>6 rows × 23 columns</p>\n</div>"
     },
     "metadata": {},
     "execution_count": 25
    }
   ],
   "source": [
    "female_and_speeding.groupby(\"stop_outcome\").count()"
   ]
  },
  {
   "cell_type": "code",
   "execution_count": 26,
   "metadata": {},
   "outputs": [
    {
     "output_type": "execute_result",
     "data": {
      "text/plain": [
       "82168"
      ]
     },
     "metadata": {},
     "execution_count": 26
    }
   ],
   "source": [
    "cita_f = len(female_and_speeding[female_and_speeding[\"stop_outcome\"] == \"Citation\"])\n",
    "cita_f"
   ]
  },
  {
   "cell_type": "code",
   "execution_count": 27,
   "metadata": {},
   "outputs": [
    {
     "output_type": "execute_result",
     "data": {
      "text/plain": [
       "3362"
      ]
     },
     "metadata": {},
     "execution_count": 27
    }
   ],
   "source": [
    "warn_f = len(female_and_speeding[female_and_speeding[\"stop_outcome\"] == \"Warning\"])\n",
    "warn_f"
   ]
  },
  {
   "cell_type": "code",
   "execution_count": 28,
   "metadata": {},
   "outputs": [
    {
     "output_type": "execute_result",
     "data": {
      "text/plain": [
       "4.091617174569175"
      ]
     },
     "metadata": {},
     "execution_count": 28
    }
   ],
   "source": [
    "rate_f = (warn_f/cita_f)*100\n",
    "rate_f"
   ]
  },
  {
   "cell_type": "code",
   "execution_count": 29,
   "metadata": {},
   "outputs": [
    {
     "output_type": "execute_result",
     "data": {
      "text/plain": [
       "182538"
      ]
     },
     "metadata": {},
     "execution_count": 29
    }
   ],
   "source": [
    "male_and_speeding[\"stop_outcome\"].count()"
   ]
  },
  {
   "cell_type": "code",
   "execution_count": 30,
   "metadata": {},
   "outputs": [
    {
     "output_type": "execute_result",
     "data": {
      "text/plain": [
       "                      id  stop_date  stop_time  location_raw  county_fips  \\\n",
       "stop_outcome                                                                \n",
       "Arrest Driver       2878       2878       2878          2878            0   \n",
       "Arrest Passenger     231        231        231           231            0   \n",
       "Citation          172432     172432     172432        172432            0   \n",
       "N/D                  216        216        216           216            0   \n",
       "No Action            194        194        194           194            0   \n",
       "Warning             6587       6587       6587          6587            0   \n",
       "\n",
       "                  fine_grained_location  police_department  driver_gender  \\\n",
       "stop_outcome                                                                \n",
       "Arrest Driver                         0               2878           2878   \n",
       "Arrest Passenger                      0                231            231   \n",
       "Citation                              0             172432         172432   \n",
       "N/D                                   0                216            216   \n",
       "No Action                             0                194            194   \n",
       "Warning                               0               6587           6587   \n",
       "\n",
       "                  driver_age_raw  driver_age  ...  violation  \\\n",
       "stop_outcome                                  ...              \n",
       "Arrest Driver               2878        2877  ...       2878   \n",
       "Arrest Passenger             231         230  ...        231   \n",
       "Citation                  172432      172241  ...     172432   \n",
       "N/D                          216         215  ...        216   \n",
       "No Action                    194         190  ...        194   \n",
       "Warning                     6587        6410  ...       6587   \n",
       "\n",
       "                  search_conducted  search_type_raw  search_type  \\\n",
       "stop_outcome                                                       \n",
       "Arrest Driver                 2878             1322         1322   \n",
       "Arrest Passenger               231              122          122   \n",
       "Citation                    172432             3262         3262   \n",
       "N/D                            216                2            2   \n",
       "No Action                      194               44           44   \n",
       "Warning                       6587              109          109   \n",
       "\n",
       "                  contraband_found  is_arrested  stop_duration  out_of_state  \\\n",
       "stop_outcome                                                                   \n",
       "Arrest Driver                 2878         2878           2878          2874   \n",
       "Arrest Passenger               231          231            231           230   \n",
       "Citation                    172432       172432         172432        172304   \n",
       "N/D                            216          216            216           216   \n",
       "No Action                      194          194            194           194   \n",
       "Warning                       6587         6587           6587          6507   \n",
       "\n",
       "                  drugs_related_stop  district  \n",
       "stop_outcome                                    \n",
       "Arrest Driver                   2878      2878  \n",
       "Arrest Passenger                 231       231  \n",
       "Citation                      172432    172432  \n",
       "N/D                              216       216  \n",
       "No Action                        194       194  \n",
       "Warning                         6587      6587  \n",
       "\n",
       "[6 rows x 23 columns]"
      ],
      "text/html": "<div>\n<style scoped>\n    .dataframe tbody tr th:only-of-type {\n        vertical-align: middle;\n    }\n\n    .dataframe tbody tr th {\n        vertical-align: top;\n    }\n\n    .dataframe thead th {\n        text-align: right;\n    }\n</style>\n<table border=\"1\" class=\"dataframe\">\n  <thead>\n    <tr style=\"text-align: right;\">\n      <th></th>\n      <th>id</th>\n      <th>stop_date</th>\n      <th>stop_time</th>\n      <th>location_raw</th>\n      <th>county_fips</th>\n      <th>fine_grained_location</th>\n      <th>police_department</th>\n      <th>driver_gender</th>\n      <th>driver_age_raw</th>\n      <th>driver_age</th>\n      <th>...</th>\n      <th>violation</th>\n      <th>search_conducted</th>\n      <th>search_type_raw</th>\n      <th>search_type</th>\n      <th>contraband_found</th>\n      <th>is_arrested</th>\n      <th>stop_duration</th>\n      <th>out_of_state</th>\n      <th>drugs_related_stop</th>\n      <th>district</th>\n    </tr>\n    <tr>\n      <th>stop_outcome</th>\n      <th></th>\n      <th></th>\n      <th></th>\n      <th></th>\n      <th></th>\n      <th></th>\n      <th></th>\n      <th></th>\n      <th></th>\n      <th></th>\n      <th></th>\n      <th></th>\n      <th></th>\n      <th></th>\n      <th></th>\n      <th></th>\n      <th></th>\n      <th></th>\n      <th></th>\n      <th></th>\n      <th></th>\n    </tr>\n  </thead>\n  <tbody>\n    <tr>\n      <th>Arrest Driver</th>\n      <td>2878</td>\n      <td>2878</td>\n      <td>2878</td>\n      <td>2878</td>\n      <td>0</td>\n      <td>0</td>\n      <td>2878</td>\n      <td>2878</td>\n      <td>2878</td>\n      <td>2877</td>\n      <td>...</td>\n      <td>2878</td>\n      <td>2878</td>\n      <td>1322</td>\n      <td>1322</td>\n      <td>2878</td>\n      <td>2878</td>\n      <td>2878</td>\n      <td>2874</td>\n      <td>2878</td>\n      <td>2878</td>\n    </tr>\n    <tr>\n      <th>Arrest Passenger</th>\n      <td>231</td>\n      <td>231</td>\n      <td>231</td>\n      <td>231</td>\n      <td>0</td>\n      <td>0</td>\n      <td>231</td>\n      <td>231</td>\n      <td>231</td>\n      <td>230</td>\n      <td>...</td>\n      <td>231</td>\n      <td>231</td>\n      <td>122</td>\n      <td>122</td>\n      <td>231</td>\n      <td>231</td>\n      <td>231</td>\n      <td>230</td>\n      <td>231</td>\n      <td>231</td>\n    </tr>\n    <tr>\n      <th>Citation</th>\n      <td>172432</td>\n      <td>172432</td>\n      <td>172432</td>\n      <td>172432</td>\n      <td>0</td>\n      <td>0</td>\n      <td>172432</td>\n      <td>172432</td>\n      <td>172432</td>\n      <td>172241</td>\n      <td>...</td>\n      <td>172432</td>\n      <td>172432</td>\n      <td>3262</td>\n      <td>3262</td>\n      <td>172432</td>\n      <td>172432</td>\n      <td>172432</td>\n      <td>172304</td>\n      <td>172432</td>\n      <td>172432</td>\n    </tr>\n    <tr>\n      <th>N/D</th>\n      <td>216</td>\n      <td>216</td>\n      <td>216</td>\n      <td>216</td>\n      <td>0</td>\n      <td>0</td>\n      <td>216</td>\n      <td>216</td>\n      <td>216</td>\n      <td>215</td>\n      <td>...</td>\n      <td>216</td>\n      <td>216</td>\n      <td>2</td>\n      <td>2</td>\n      <td>216</td>\n      <td>216</td>\n      <td>216</td>\n      <td>216</td>\n      <td>216</td>\n      <td>216</td>\n    </tr>\n    <tr>\n      <th>No Action</th>\n      <td>194</td>\n      <td>194</td>\n      <td>194</td>\n      <td>194</td>\n      <td>0</td>\n      <td>0</td>\n      <td>194</td>\n      <td>194</td>\n      <td>194</td>\n      <td>190</td>\n      <td>...</td>\n      <td>194</td>\n      <td>194</td>\n      <td>44</td>\n      <td>44</td>\n      <td>194</td>\n      <td>194</td>\n      <td>194</td>\n      <td>194</td>\n      <td>194</td>\n      <td>194</td>\n    </tr>\n    <tr>\n      <th>Warning</th>\n      <td>6587</td>\n      <td>6587</td>\n      <td>6587</td>\n      <td>6587</td>\n      <td>0</td>\n      <td>0</td>\n      <td>6587</td>\n      <td>6587</td>\n      <td>6587</td>\n      <td>6410</td>\n      <td>...</td>\n      <td>6587</td>\n      <td>6587</td>\n      <td>109</td>\n      <td>109</td>\n      <td>6587</td>\n      <td>6587</td>\n      <td>6587</td>\n      <td>6507</td>\n      <td>6587</td>\n      <td>6587</td>\n    </tr>\n  </tbody>\n</table>\n<p>6 rows × 23 columns</p>\n</div>"
     },
     "metadata": {},
     "execution_count": 30
    }
   ],
   "source": [
    "male_and_speeding.groupby(\"stop_outcome\").count()"
   ]
  },
  {
   "cell_type": "code",
   "execution_count": 31,
   "metadata": {},
   "outputs": [
    {
     "output_type": "execute_result",
     "data": {
      "text/plain": [
       "172432"
      ]
     },
     "metadata": {},
     "execution_count": 31
    }
   ],
   "source": [
    "cita_m = len(male_and_speeding[male_and_speeding[\"stop_outcome\"] == \"Citation\"])\n",
    "cita_m"
   ]
  },
  {
   "cell_type": "code",
   "execution_count": 32,
   "metadata": {},
   "outputs": [
    {
     "output_type": "execute_result",
     "data": {
      "text/plain": [
       "6587"
      ]
     },
     "metadata": {},
     "execution_count": 32
    }
   ],
   "source": [
    "warn_m = len(male_and_speeding[male_and_speeding[\"stop_outcome\"] == \"Warning\"])\n",
    "warn_m"
   ]
  },
  {
   "cell_type": "code",
   "execution_count": 33,
   "metadata": {},
   "outputs": [
    {
     "output_type": "execute_result",
     "data": {
      "text/plain": [
       "3.8200566020228264"
      ]
     },
     "metadata": {},
     "execution_count": 33
    }
   ],
   "source": [
    "rate_m = (warn_m/cita_m)*100\n",
    "rate_m"
   ]
  },
  {
   "cell_type": "markdown",
   "metadata": {},
   "source": [
    "***"
   ]
  },
  {
   "cell_type": "markdown",
   "metadata": {},
   "source": [
    "## Calculating the search rate"
   ]
  },
  {
   "cell_type": "markdown",
   "metadata": {},
   "source": [
    "During a traffic stop, the police officer sometimes conducts a search of the vehicle. In this exercise, you'll calculate the percentage of all stops that result in a vehicle search, also known as the **search rate**."
   ]
  },
  {
   "cell_type": "markdown",
   "metadata": {},
   "source": [
    "**INSTRUCTIONS**\n",
    "\n",
    "*   Check the data type of ``search_conducted`` to confirm that it's a ``Boolean Series``.\n",
    "*   Calculate the search rate by counting the ``Series`` values and expressing them as proportions.\n",
    "*   Calculate the search rate by taking the mean of the ``Series``. (It should match the proportion of ``True`` values calculated above.)"
   ]
  },
  {
   "cell_type": "code",
   "execution_count": 34,
   "metadata": {},
   "outputs": [
    {
     "output_type": "execute_result",
     "data": {
      "text/plain": [
       "dtype('O')"
      ]
     },
     "metadata": {},
     "execution_count": 34
    }
   ],
   "source": [
    "df[\"search_conducted\"].dtypes"
   ]
  },
  {
   "cell_type": "code",
   "execution_count": 35,
   "metadata": {},
   "outputs": [
    {
     "output_type": "execute_result",
     "data": {
      "text/plain": [
       "480584"
      ]
     },
     "metadata": {},
     "execution_count": 35
    }
   ],
   "source": [
    "df[\"search_conducted\"].count()"
   ]
  },
  {
   "cell_type": "code",
   "execution_count": 36,
   "metadata": {},
   "outputs": [
    {
     "output_type": "execute_result",
     "data": {
      "text/plain": [
       "search_conducted\n",
       "False    462822\n",
       "True      17762\n",
       "Name: search_conducted, dtype: int64"
      ]
     },
     "metadata": {},
     "execution_count": 36
    }
   ],
   "source": [
    "df.groupby(\"search_conducted\")[\"search_conducted\"].count()"
   ]
  },
  {
   "cell_type": "code",
   "execution_count": 37,
   "metadata": {},
   "outputs": [
    {
     "output_type": "execute_result",
     "data": {
      "text/plain": [
       "17762"
      ]
     },
     "metadata": {},
     "execution_count": 37
    }
   ],
   "source": [
    "len(df[df[\"search_conducted\"]==True])"
   ]
  },
  {
   "cell_type": "code",
   "execution_count": 38,
   "metadata": {},
   "outputs": [
    {
     "output_type": "execute_result",
     "data": {
      "text/plain": [
       "462822"
      ]
     },
     "metadata": {},
     "execution_count": 38
    }
   ],
   "source": [
    "len(df[df[\"search_conducted\"]==False])"
   ]
  },
  {
   "cell_type": "code",
   "execution_count": 40,
   "metadata": {},
   "outputs": [
    {
     "output_type": "execute_result",
     "data": {
      "text/plain": [
       "3.8377605213235326"
      ]
     },
     "metadata": {},
     "execution_count": 40
    }
   ],
   "source": [
    "(len(df[df[\"search_conducted\"]==True])/len(df[df[\"search_conducted\"]==False]))*100"
   ]
  },
  {
   "cell_type": "code",
   "execution_count": 41,
   "metadata": {},
   "outputs": [
    {
     "output_type": "execute_result",
     "data": {
      "text/plain": [
       "county_fips                      NaN\n",
       "fine_grained_location            NaN\n",
       "driver_age_raw           1978.421462\n",
       "driver_age                 30.660000\n",
       "search_conducted            1.000000\n",
       "contraband_found            0.370397\n",
       "is_arrested                 0.348328\n",
       "out_of_state                0.251610\n",
       "drugs_related_stop          0.268269\n",
       "dtype: float64"
      ]
     },
     "metadata": {},
     "execution_count": 41
    }
   ],
   "source": [
    "df[df[\"search_conducted\"]==True].mean()"
   ]
  },
  {
   "cell_type": "markdown",
   "metadata": {},
   "source": [
    "***"
   ]
  },
  {
   "cell_type": "markdown",
   "metadata": {},
   "source": [
    "## Comparing search rates by gender"
   ]
  },
  {
   "cell_type": "markdown",
   "metadata": {},
   "source": [
    "You'll compare the rates at which **female** and **male** drivers are searched during a traffic stop. Remember that the vehicle search rate across all stops is about **3.8%**.\n",
    "\n",
    "First, you'll filter the ``DataFrame`` by gender and calculate the search rate for each group separately. Then, you'll perform the same calculation for both genders at once using a ``.groupby()``."
   ]
  },
  {
   "cell_type": "markdown",
   "metadata": {},
   "source": [
    "**INSTRUCTIONS 1/3**\n",
    "\n",
    "*   Filter the ``DataFrame`` to only include **female** drivers, and then calculate the search rate by taking the mean of ``search_conducted``."
   ]
  },
  {
   "cell_type": "code",
   "execution_count": 42,
   "metadata": {},
   "outputs": [
    {
     "output_type": "execute_result",
     "data": {
      "text/plain": [
       "county_fips                      NaN\n",
       "fine_grained_location            NaN\n",
       "driver_age_raw           1978.398536\n",
       "driver_age                 29.872609\n",
       "search_conducted            1.000000\n",
       "contraband_found            0.337942\n",
       "is_arrested                 0.370069\n",
       "out_of_state                0.214927\n",
       "drugs_related_stop          0.243595\n",
       "dtype: float64"
      ]
     },
     "metadata": {},
     "execution_count": 42
    }
   ],
   "source": [
    "df_f[df_f[\"search_conducted\"]==True].mean()"
   ]
  },
  {
   "cell_type": "markdown",
   "metadata": {},
   "source": [
    "**INSTRUCTIONS 2/3**\n",
    "\n",
    "*   Filter the ``DataFrame`` to only include **male** drivers, and then repeat the search rate calculation."
   ]
  },
  {
   "cell_type": "code",
   "execution_count": 43,
   "metadata": {},
   "outputs": [
    {
     "output_type": "execute_result",
     "data": {
      "text/plain": [
       "county_fips                      NaN\n",
       "fine_grained_location            NaN\n",
       "driver_age_raw           1978.425145\n",
       "driver_age                 30.786504\n",
       "search_conducted            1.000000\n",
       "contraband_found            0.375613\n",
       "is_arrested                 0.344834\n",
       "out_of_state                0.257510\n",
       "drugs_related_stop          0.272234\n",
       "dtype: float64"
      ]
     },
     "metadata": {},
     "execution_count": 43
    }
   ],
   "source": [
    "df_m[df_m[\"search_conducted\"]==True].mean()"
   ]
  },
  {
   "cell_type": "markdown",
   "metadata": {},
   "source": [
    "**INSTRUCTIONS 3/3**\n",
    "\n",
    "*   Group by driver gender to calculate the search rate for both groups simultaneously. (It should match the previous results.)"
   ]
  },
  {
   "cell_type": "code",
   "execution_count": 44,
   "metadata": {},
   "outputs": [
    {
     "output_type": "execute_result",
     "data": {
      "text/plain": [
       "               county_fips  fine_grained_location  driver_age_raw  driver_age  \\\n",
       "driver_gender                                                                   \n",
       "F                      NaN                    NaN     1978.398536   29.872609   \n",
       "M                      NaN                    NaN     1978.425145   30.786504   \n",
       "\n",
       "               contraband_found  is_arrested  drugs_related_stop  \n",
       "driver_gender                                                     \n",
       "F                      0.337942     0.370069            0.243595  \n",
       "M                      0.375613     0.344834            0.272234  "
      ],
      "text/html": "<div>\n<style scoped>\n    .dataframe tbody tr th:only-of-type {\n        vertical-align: middle;\n    }\n\n    .dataframe tbody tr th {\n        vertical-align: top;\n    }\n\n    .dataframe thead th {\n        text-align: right;\n    }\n</style>\n<table border=\"1\" class=\"dataframe\">\n  <thead>\n    <tr style=\"text-align: right;\">\n      <th></th>\n      <th>county_fips</th>\n      <th>fine_grained_location</th>\n      <th>driver_age_raw</th>\n      <th>driver_age</th>\n      <th>contraband_found</th>\n      <th>is_arrested</th>\n      <th>drugs_related_stop</th>\n    </tr>\n    <tr>\n      <th>driver_gender</th>\n      <th></th>\n      <th></th>\n      <th></th>\n      <th></th>\n      <th></th>\n      <th></th>\n      <th></th>\n    </tr>\n  </thead>\n  <tbody>\n    <tr>\n      <th>F</th>\n      <td>NaN</td>\n      <td>NaN</td>\n      <td>1978.398536</td>\n      <td>29.872609</td>\n      <td>0.337942</td>\n      <td>0.370069</td>\n      <td>0.243595</td>\n    </tr>\n    <tr>\n      <th>M</th>\n      <td>NaN</td>\n      <td>NaN</td>\n      <td>1978.425145</td>\n      <td>30.786504</td>\n      <td>0.375613</td>\n      <td>0.344834</td>\n      <td>0.272234</td>\n    </tr>\n  </tbody>\n</table>\n</div>"
     },
     "metadata": {},
     "execution_count": 44
    }
   ],
   "source": [
    "df[df[\"search_conducted\"]==True].groupby(\"driver_gender\").mean()"
   ]
  },
  {
   "cell_type": "code",
   "execution_count": 45,
   "metadata": {},
   "outputs": [
    {
     "output_type": "execute_result",
     "data": {
      "text/plain": [
       "search_conducted\n",
       "False    128679\n",
       "True       2459\n",
       "Name: search_conducted, dtype: int64"
      ]
     },
     "metadata": {},
     "execution_count": 45
    }
   ],
   "source": [
    "df_f.groupby(\"search_conducted\")[\"search_conducted\"].count()"
   ]
  },
  {
   "cell_type": "code",
   "execution_count": 46,
   "metadata": {},
   "outputs": [
    {
     "output_type": "execute_result",
     "data": {
      "text/plain": [
       "search_conducted\n",
       "False    334143\n",
       "True      15303\n",
       "Name: search_conducted, dtype: int64"
      ]
     },
     "metadata": {},
     "execution_count": 46
    }
   ],
   "source": [
    "df_m.groupby(\"search_conducted\")[\"search_conducted\"].count()"
   ]
  },
  {
   "cell_type": "markdown",
   "metadata": {},
   "source": [
    "***"
   ]
  },
  {
   "cell_type": "markdown",
   "metadata": {},
   "source": [
    "## Adding a second factor to the analysis"
   ]
  },
  {
   "cell_type": "markdown",
   "metadata": {},
   "source": [
    "Even though the search rate for males is much higher than for females, it's possible that the difference is mostly due to a second factor.\n",
    "\n",
    "For example, you might hypothesize that the search rate varies by violation type, and the difference in search rate between males and females is because they tend to commit different violations.\n",
    "\n",
    "You can test this hypothesis by examining the search rate for each combination of gender and violation. If the hypothesis was true, you would find that males and females are searched at about the same rate for each violation. Find out below if that's the case!"
   ]
  },
  {
   "cell_type": "markdown",
   "metadata": {},
   "source": [
    "**INSTRUCTIONS 1/2**\n",
    "\n",
    "*   Use a ``.groupby()`` to calculate the search rate for each combination of gender and violation. Are males and females searched at about the same rate for each violation?"
   ]
  },
  {
   "cell_type": "code",
   "execution_count": 47,
   "metadata": {},
   "outputs": [
    {
     "output_type": "execute_result",
     "data": {
      "text/plain": [
       "driver_gender\n",
       "F     2459\n",
       "M    15303\n",
       "Name: driver_gender, dtype: int64"
      ]
     },
     "metadata": {},
     "execution_count": 47
    }
   ],
   "source": [
    "df[df[\"search_conducted\"]==True].groupby(\"driver_gender\")[\"driver_gender\"].count()"
   ]
  },
  {
   "cell_type": "code",
   "execution_count": 48,
   "metadata": {},
   "outputs": [
    {
     "output_type": "execute_result",
     "data": {
      "text/plain": [
       "violation\n",
       "Equipment              3913\n",
       "Moving violation       4959\n",
       "Other                  1116\n",
       "Registration/plates    1778\n",
       "Seat belt               468\n",
       "Speeding               5528\n",
       "Name: violation, dtype: int64"
      ]
     },
     "metadata": {},
     "execution_count": 48
    }
   ],
   "source": [
    "df[df[\"search_conducted\"]==True].groupby(\"violation\")[\"violation\"].count()"
   ]
  },
  {
   "cell_type": "markdown",
   "metadata": {},
   "source": [
    "**INSTRUCTIONS 2/2**\n",
    "\n",
    "*   Reverse the ordering to group by violation before gender. The results may be easier to compare when presented this way."
   ]
  },
  {
   "cell_type": "code",
   "execution_count": 49,
   "metadata": {},
   "outputs": [
    {
     "output_type": "execute_result",
     "data": {
      "text/plain": [
       "violation\n",
       "Equipment               61250\n",
       "Moving violation        90228\n",
       "Other                   24216\n",
       "Registration/plates     19830\n",
       "Seat belt               16324\n",
       "Speeding               268736\n",
       "Name: driver_gender, dtype: int64"
      ]
     },
     "metadata": {},
     "execution_count": 49
    }
   ],
   "source": [
    "df.groupby(\"violation\")[\"driver_gender\"].count()"
   ]
  },
  {
   "cell_type": "markdown",
   "metadata": {},
   "source": [
    "***"
   ]
  },
  {
   "cell_type": "markdown",
   "metadata": {},
   "source": [
    "## Counting protective frisks"
   ]
  },
  {
   "cell_type": "markdown",
   "metadata": {},
   "source": [
    "During a vehicle search, the police officer may pat down the driver to check if they have a weapon. This is known as a ``\"protective frisk.\"``\n",
    "\n",
    "You'll first check to see how many times \"Protective Frisk\" was the only search type. Then, you'll use a string method to locate all instances in which the driver was frisked."
   ]
  },
  {
   "cell_type": "markdown",
   "metadata": {},
   "source": [
    "**INSTRUCTIONS**\n",
    "\n",
    "*   Count the ``search_type`` values to see how many times ``\"Protective Frisk\"`` was the only search type.\n",
    "*   Create a new column, frisk, that is ``True`` if ``search_type`` contains the string ``\"Protective Frisk\"`` and ``False`` otherwise.\n",
    "*   Check the data type of frisk to confirm that it's a ``Boolean Series``.\n",
    "*   Take the sum of frisk to count the total number of frisks."
   ]
  },
  {
   "cell_type": "code",
   "execution_count": null,
   "metadata": {},
   "outputs": [],
   "source": []
  },
  {
   "cell_type": "markdown",
   "metadata": {},
   "source": [
    "***"
   ]
  },
  {
   "cell_type": "markdown",
   "metadata": {},
   "source": [
    "## Comparing frisk rates by gender"
   ]
  },
  {
   "cell_type": "markdown",
   "metadata": {},
   "source": [
    "You'll compare the rates at which female and male drivers are frisked during a search. Are males frisked more often than females, perhaps because police officers consider them to be higher risk?\n",
    "\n",
    "Before doing any calculations, it's important to filter the ``DataFrame`` to only include the relevant subset of data, namely stops in which a search was conducted."
   ]
  },
  {
   "cell_type": "markdown",
   "metadata": {},
   "source": [
    "**INSTRUCTIONS**\n",
    "\n",
    "*   Create a ``DataFrame``, searched, that only contains rows in which ``search_conducted`` is ``True``.\n",
    "*   Take the mean of the frisk column to find out what percentage of searches included a frisk.\n",
    "*   Calculate the frisk rate for each gender using a ``.groupby()``."
   ]
  },
  {
   "cell_type": "code",
   "execution_count": null,
   "metadata": {},
   "outputs": [],
   "source": []
  }
 ],
 "metadata": {
  "kernelspec": {
   "display_name": "Python 3",
   "language": "python",
   "name": "python3"
  },
  "language_info": {
   "codemirror_mode": {
    "name": "ipython",
    "version": 3
   },
   "file_extension": ".py",
   "mimetype": "text/x-python",
   "name": "python",
   "nbconvert_exporter": "python",
   "pygments_lexer": "ipython3",
   "version": "3.9.0-final"
  }
 },
 "nbformat": 4,
 "nbformat_minor": 4
}